{
 "cells": [
  {
   "attachments": {},
   "cell_type": "markdown",
   "metadata": {},
   "source": [
    "# Analysis"
   ]
  },
  {
   "cell_type": "code",
   "execution_count": 11,
   "metadata": {},
   "outputs": [],
   "source": [
    "import pandas as pd"
   ]
  },
  {
   "cell_type": "code",
   "execution_count": 12,
   "metadata": {},
   "outputs": [
    {
     "name": "stdout",
     "output_type": "stream",
     "text": [
      "                Age  Age.1  Gender Class/Membership Membership Package  \\\n",
      "0     MemberLTS0001    6.0  Female    LEARN-TO-SWIM      LEARN-TO-SWIM   \n",
      "1     MemberLTS0004    7.0  Female    LEARN-TO-SWIM      LEARN-TO-SWIM   \n",
      "2     MemberLTS0002    7.0    Male    LEARN-TO-SWIM      LEARN-TO-SWIM   \n",
      "3     MemberLTS0003    6.0    Male    LEARN-TO-SWIM      LEARN-TO-SWIM   \n",
      "4     MemberLTS0006    0.0  Female    LEARN-TO-SWIM      LEARN-TO-SWIM   \n",
      "...             ...    ...     ...              ...                ...   \n",
      "4483  MemberGym2209   36.0  Female       Membership      Reformer Plus   \n",
      "4484  MemberGym2212   20.0  Female       Membership      Reformer Plus   \n",
      "4485  MemberGym2213   39.0  Female       Membership      Reformer Plus   \n",
      "4486  MemberGym2214   39.0  Female       Membership      Reformer Plus   \n",
      "4487  MemberGym2215   45.0  Female       Membership      Reformer Plus   \n",
      "\n",
      "     Membership Type            Suburb  \n",
      "0      LEARN-TO-SWIM       AARONS PASS  \n",
      "1      LEARN-TO-SWIM             ASCOT  \n",
      "2      LEARN-TO-SWIM             ASCOT  \n",
      "3      LEARN-TO-SWIM             ASCOT  \n",
      "4      LEARN-TO-SWIM         AXE CREEK  \n",
      "...              ...               ...  \n",
      "4483           ADULT   STRATHFIELDSAYE  \n",
      "4484           ADULT        WEDDERBURN  \n",
      "4485           ADULT      WEST BENDIGO  \n",
      "4486           ADULT         WHIPSTICK  \n",
      "4487           ADULT          WOODVALE  \n",
      "\n",
      "[4488 rows x 7 columns]\n"
     ]
    }
   ],
   "source": [
    "df = pd.read_excel(r'/Users/jackmelleuish/Desktop/DATA 30 JUN 2023 - MEMBERS.xlsx')\n",
    "print(df)"
   ]
  },
  {
   "cell_type": "code",
   "execution_count": 13,
   "metadata": {},
   "outputs": [
    {
     "name": "stdout",
     "output_type": "stream",
     "text": [
      "       Age  Gender Class/Membership Membership Package Membership Type  \\\n",
      "0      6.0  Female    LEARN-TO-SWIM      LEARN-TO-SWIM   LEARN-TO-SWIM   \n",
      "1      7.0  Female    LEARN-TO-SWIM      LEARN-TO-SWIM   LEARN-TO-SWIM   \n",
      "2      7.0    Male    LEARN-TO-SWIM      LEARN-TO-SWIM   LEARN-TO-SWIM   \n",
      "3      6.0    Male    LEARN-TO-SWIM      LEARN-TO-SWIM   LEARN-TO-SWIM   \n",
      "4      0.0  Female    LEARN-TO-SWIM      LEARN-TO-SWIM   LEARN-TO-SWIM   \n",
      "...    ...     ...              ...                ...             ...   \n",
      "4483  36.0  Female       Membership      Reformer Plus           ADULT   \n",
      "4484  20.0  Female       Membership      Reformer Plus           ADULT   \n",
      "4485  39.0  Female       Membership      Reformer Plus           ADULT   \n",
      "4486  39.0  Female       Membership      Reformer Plus           ADULT   \n",
      "4487  45.0  Female       Membership      Reformer Plus           ADULT   \n",
      "\n",
      "                Suburb  \n",
      "0          AARONS PASS  \n",
      "1                ASCOT  \n",
      "2                ASCOT  \n",
      "3                ASCOT  \n",
      "4            AXE CREEK  \n",
      "...                ...  \n",
      "4483   STRATHFIELDSAYE  \n",
      "4484        WEDDERBURN  \n",
      "4485      WEST BENDIGO  \n",
      "4486         WHIPSTICK  \n",
      "4487          WOODVALE  \n",
      "\n",
      "[4488 rows x 6 columns]\n"
     ]
    }
   ],
   "source": [
    "df = df.drop(columns = ['Age'])\n",
    "df = df.rename(columns={\"Age.1\": \"Age\"})\n",
    "print(df)"
   ]
  },
  {
   "cell_type": "markdown",
   "metadata": {},
   "source": [
    "df.groupby(['Class/M']).size()"
   ]
  },
  {
   "cell_type": "code",
   "execution_count": null,
   "metadata": {},
   "outputs": [],
   "source": []
  },
  {
   "cell_type": "code",
   "execution_count": null,
   "metadata": {},
   "outputs": [],
   "source": []
  }
 ],
 "metadata": {
  "kernelspec": {
   "display_name": "Python 3",
   "language": "python",
   "name": "python3"
  },
  "language_info": {
   "codemirror_mode": {
    "name": "ipython",
    "version": 3
   },
   "file_extension": ".py",
   "mimetype": "text/x-python",
   "name": "python",
   "nbconvert_exporter": "python",
   "pygments_lexer": "ipython3",
   "version": "3.9.12"
  },
  "orig_nbformat": 4
 },
 "nbformat": 4,
 "nbformat_minor": 2
}
