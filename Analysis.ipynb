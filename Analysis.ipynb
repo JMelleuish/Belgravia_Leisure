{
 "cells": [
  {
   "attachments": {},
   "cell_type": "markdown",
   "metadata": {},
   "source": [
    "# Belgravia Membership Analysis\n",
    "## Cleaning"
   ]
  },
  {
   "cell_type": "code",
   "execution_count": 508,
   "metadata": {},
   "outputs": [],
   "source": [
    "import pandas as pd\n",
    "import numpy as np\n",
    "import geopandas as gpd\n",
    "import folium"
   ]
  },
  {
   "cell_type": "code",
   "execution_count": 509,
   "metadata": {},
   "outputs": [
    {
     "name": "stdout",
     "output_type": "stream",
     "text": [
      "                Age  Age.1  Gender Class/Membership Membership Package  \\\n",
      "0     MemberLTS0001    6.0  Female    LEARN-TO-SWIM      LEARN-TO-SWIM   \n",
      "1     MemberLTS0004    7.0  Female    LEARN-TO-SWIM      LEARN-TO-SWIM   \n",
      "2     MemberLTS0002    7.0    Male    LEARN-TO-SWIM      LEARN-TO-SWIM   \n",
      "3     MemberLTS0003    6.0    Male    LEARN-TO-SWIM      LEARN-TO-SWIM   \n",
      "4     MemberLTS0006    0.0  Female    LEARN-TO-SWIM      LEARN-TO-SWIM   \n",
      "...             ...    ...     ...              ...                ...   \n",
      "4483  MemberGym2209   36.0  Female       Membership      Reformer Plus   \n",
      "4484  MemberGym2212   20.0  Female       Membership      Reformer Plus   \n",
      "4485  MemberGym2213   39.0  Female       Membership      Reformer Plus   \n",
      "4486  MemberGym2214   39.0  Female       Membership      Reformer Plus   \n",
      "4487  MemberGym2215   45.0  Female       Membership      Reformer Plus   \n",
      "\n",
      "     Membership Type            Suburb  \n",
      "0      LEARN-TO-SWIM       AARONS PASS  \n",
      "1      LEARN-TO-SWIM             ASCOT  \n",
      "2      LEARN-TO-SWIM             ASCOT  \n",
      "3      LEARN-TO-SWIM             ASCOT  \n",
      "4      LEARN-TO-SWIM         AXE CREEK  \n",
      "...              ...               ...  \n",
      "4483           ADULT   STRATHFIELDSAYE  \n",
      "4484           ADULT        WEDDERBURN  \n",
      "4485           ADULT      WEST BENDIGO  \n",
      "4486           ADULT         WHIPSTICK  \n",
      "4487           ADULT          WOODVALE  \n",
      "\n",
      "[4488 rows x 7 columns]\n"
     ]
    }
   ],
   "source": [
    "df = pd.read_excel(r'/Users/jackmelleuish/Documents/GitHub/Belgravia_Leisure/DATA 30 JUN 2023 - MEMBERS.xlsx')\n",
    "print(df)"
   ]
  },
  {
   "cell_type": "code",
   "execution_count": 510,
   "metadata": {},
   "outputs": [
    {
     "name": "stdout",
     "output_type": "stream",
     "text": [
      "       Age  Gender Class/Membership Membership Package Membership Type  \\\n",
      "0      6.0  Female    LEARN-TO-SWIM      LEARN-TO-SWIM   LEARN-TO-SWIM   \n",
      "1      7.0  Female    LEARN-TO-SWIM      LEARN-TO-SWIM   LEARN-TO-SWIM   \n",
      "2      7.0    Male    LEARN-TO-SWIM      LEARN-TO-SWIM   LEARN-TO-SWIM   \n",
      "3      6.0    Male    LEARN-TO-SWIM      LEARN-TO-SWIM   LEARN-TO-SWIM   \n",
      "4      0.0  Female    LEARN-TO-SWIM      LEARN-TO-SWIM   LEARN-TO-SWIM   \n",
      "...    ...     ...              ...                ...             ...   \n",
      "4483  36.0  Female       Membership      Reformer Plus           ADULT   \n",
      "4484  20.0  Female       Membership      Reformer Plus           ADULT   \n",
      "4485  39.0  Female       Membership      Reformer Plus           ADULT   \n",
      "4486  39.0  Female       Membership      Reformer Plus           ADULT   \n",
      "4487  45.0  Female       Membership      Reformer Plus           ADULT   \n",
      "\n",
      "                Suburb  \n",
      "0          AARONS PASS  \n",
      "1                ASCOT  \n",
      "2                ASCOT  \n",
      "3                ASCOT  \n",
      "4            AXE CREEK  \n",
      "...                ...  \n",
      "4483   STRATHFIELDSAYE  \n",
      "4484        WEDDERBURN  \n",
      "4485      WEST BENDIGO  \n",
      "4486         WHIPSTICK  \n",
      "4487          WOODVALE  \n",
      "\n",
      "[4488 rows x 6 columns]\n"
     ]
    }
   ],
   "source": [
    "df = df.drop(columns = ['Age'])\n",
    "df = df.rename(columns={\"Age.1\": \"Age\"})\n",
    "print(df)"
   ]
  },
  {
   "cell_type": "code",
   "execution_count": 511,
   "metadata": {},
   "outputs": [
    {
     "data": {
      "text/plain": [
       "Class/Membership\n",
       "LEARN-TO-SWIM    1060\n",
       "Membership       3428\n",
       "dtype: int64"
      ]
     },
     "execution_count": 511,
     "metadata": {},
     "output_type": "execute_result"
    }
   ],
   "source": [
    "df.groupby(['Class/Membership']).size()"
   ]
  },
  {
   "cell_type": "code",
   "execution_count": 512,
   "metadata": {},
   "outputs": [
    {
     "data": {
      "text/plain": [
       "Membership Package\n",
       "Aquatic Access      1213\n",
       "Coaching Zone         10\n",
       "Full Access         2003\n",
       "Full Access Teen      79\n",
       "LEARN-TO-SWIM       1060\n",
       "Reformer Plus        123\n",
       "dtype: int64"
      ]
     },
     "execution_count": 512,
     "metadata": {},
     "output_type": "execute_result"
    }
   ],
   "source": [
    "df.groupby(['Membership Package']).size()"
   ]
  },
  {
   "cell_type": "code",
   "execution_count": 513,
   "metadata": {},
   "outputs": [
    {
     "data": {
      "text/plain": [
       "Membership Type\n",
       "ADULT            1698\n",
       "CONCESSION       1651\n",
       "LEARN-TO-SWIM    1060\n",
       "TEEN (13-15)       79\n",
       "dtype: int64"
      ]
     },
     "execution_count": 513,
     "metadata": {},
     "output_type": "execute_result"
    }
   ],
   "source": [
    "df.groupby(['Membership Type']).size()"
   ]
  },
  {
   "cell_type": "code",
   "execution_count": 514,
   "metadata": {},
   "outputs": [
    {
     "data": {
      "text/plain": [
       "Gender\n",
       "Female               2451\n",
       "Male                 1977\n",
       "Other                  36\n",
       "Prefer Not To Say      24\n",
       "dtype: int64"
      ]
     },
     "execution_count": 514,
     "metadata": {},
     "output_type": "execute_result"
    }
   ],
   "source": [
    "df.groupby(['Gender']).size()"
   ]
  },
  {
   "cell_type": "code",
   "execution_count": 515,
   "metadata": {},
   "outputs": [
    {
     "data": {
      "text/plain": [
       "Age\n",
       "0.0      22\n",
       "1.0      75\n",
       "2.0      74\n",
       "3.0      79\n",
       "4.0      97\n",
       "         ..\n",
       "89.0      1\n",
       "90.0      2\n",
       "91.0      1\n",
       "122.0     1\n",
       "123.0    24\n",
       "Length: 94, dtype: int64"
      ]
     },
     "execution_count": 515,
     "metadata": {},
     "output_type": "execute_result"
    }
   ],
   "source": [
    "df.groupby(['Age']).size()"
   ]
  },
  {
   "attachments": {},
   "cell_type": "markdown",
   "metadata": {},
   "source": [
    "There are 25 people with ages above 100, we decided to removed these instances are outliers"
   ]
  },
  {
   "cell_type": "code",
   "execution_count": 516,
   "metadata": {},
   "outputs": [
    {
     "data": {
      "text/plain": [
       "Age\n",
       "0.0     22\n",
       "1.0     75\n",
       "2.0     74\n",
       "3.0     79\n",
       "4.0     97\n",
       "        ..\n",
       "87.0     2\n",
       "88.0     3\n",
       "89.0     1\n",
       "90.0     2\n",
       "91.0     1\n",
       "Length: 92, dtype: int64"
      ]
     },
     "execution_count": 516,
     "metadata": {},
     "output_type": "execute_result"
    }
   ],
   "source": [
    "df = df[df['Age'] <= 100] \n",
    "df.groupby(['Age']).size()\n"
   ]
  },
  {
   "attachments": {},
   "cell_type": "markdown",
   "metadata": {},
   "source": [
    "Fixed up all incorrect spellings and data inconsistiencies."
   ]
  },
  {
   "cell_type": "code",
   "execution_count": 517,
   "metadata": {},
   "outputs": [],
   "source": [
    "df['Suburb'] = df['Suburb'].str.upper()\n",
    "df['Suburb'] = df['Suburb'].str.strip()\n",
    "df = df.replace({'EAGLEHAWK NECK': 'EAGLEHAWK'}, regex=True)\n",
    "df = df.replace({'GOLDENSQUARE': 'GOLDEN SQUARE'}, regex=True)\n",
    "df = df.replace({'HUNTLEY': 'HUNTLY'}, regex=True)\n",
    "df = df.replace({'MOAMA NSW': 'MOAMA'}, regex=True)\n",
    "df = df.replace({'MOULAMEIN NSW': 'MOULAMEIN'}, regex=True)\n",
    "df = df.replace({'STRATHFEILDSAYE': 'STRATHFIELDSAYE'}, regex=True)\n",
    "suburbs = df.groupby(['Suburb']).size()\n",
    "suburbs.to_csv('suburbs.csv')"
   ]
  },
  {
   "cell_type": "code",
   "execution_count": 518,
   "metadata": {},
   "outputs": [
    {
     "data": {
      "text/plain": [
       "Age\n",
       "0.0      1\n",
       "12.0     3\n",
       "13.0    12\n",
       "14.0    19\n",
       "15.0    19\n",
       "16.0    18\n",
       "17.0     4\n",
       "18.0     2\n",
       "50.0     1\n",
       "dtype: int64"
      ]
     },
     "execution_count": 518,
     "metadata": {},
     "output_type": "execute_result"
    }
   ],
   "source": [
    "Teen = df[df[\"Membership Type\"] == 'TEEN (13-15)']\n",
    "Teen.groupby(['Age']).size()"
   ]
  },
  {
   "attachments": {},
   "cell_type": "markdown",
   "metadata": {},
   "source": [
    "It appears two people are extreme outliers for the membership and thus we remove their instance."
   ]
  },
  {
   "cell_type": "code",
   "execution_count": 519,
   "metadata": {},
   "outputs": [
    {
     "data": {
      "text/plain": [
       "Age\n",
       "12.0     3\n",
       "13.0    12\n",
       "14.0    19\n",
       "15.0    19\n",
       "16.0    18\n",
       "17.0     4\n",
       "18.0     2\n",
       "dtype: int64"
      ]
     },
     "execution_count": 519,
     "metadata": {},
     "output_type": "execute_result"
    }
   ],
   "source": [
    "df = df.loc[~((df['Membership Type'] == 'TEEN (13-15)') & (df['Age'] >= 19.0))]\n",
    "df = df.loc[~((df['Membership Type'] == 'TEEN (13-15)') & (df['Age'] <= 11.0))]\n",
    "Teen = df[df[\"Membership Type\"] == 'TEEN (13-15)']\n",
    "Teen.groupby(['Age']).size()"
   ]
  },
  {
   "cell_type": "code",
   "execution_count": 520,
   "metadata": {},
   "outputs": [],
   "source": [
    "conditions = [\n",
    "    (df['Membership Package'] == 'LEARN-TO-SWIM'),\n",
    "    (df['Membership Package'] == 'Aquatic Access'),\n",
    "    (df['Membership Package'] == 'Coaching Zone'),\n",
    "    (df['Membership Package'] == 'Full Access'),\n",
    "    (df['Membership Package'] == 'Full Access Teen'),\n",
    "    (df['Membership Package'] == 'Reformer Plus')\n",
    "    ]\n",
    "\n",
    "values = ['LEARN-TO-SWIM', 'Aquatic Access', 'Health Club', 'Health Club', 'Health Club', 'Health Club']\n",
    "\n",
    "df['Category'] = np.select(conditions, values)"
   ]
  },
  {
   "attachments": {},
   "cell_type": "markdown",
   "metadata": {},
   "source": [
    "## Analysis\n",
    "### Whole Centre"
   ]
  },
  {
   "cell_type": "code",
   "execution_count": 521,
   "metadata": {},
   "outputs": [
    {
     "data": {
      "text/html": [
       "<div>\n",
       "<style scoped>\n",
       "    .dataframe tbody tr th:only-of-type {\n",
       "        vertical-align: middle;\n",
       "    }\n",
       "\n",
       "    .dataframe tbody tr th {\n",
       "        vertical-align: top;\n",
       "    }\n",
       "\n",
       "    .dataframe thead th {\n",
       "        text-align: right;\n",
       "    }\n",
       "</style>\n",
       "<table border=\"1\" class=\"dataframe\">\n",
       "  <thead>\n",
       "    <tr style=\"text-align: right;\">\n",
       "      <th></th>\n",
       "      <th>Age</th>\n",
       "      <th>Gender</th>\n",
       "      <th>Class/Membership</th>\n",
       "      <th>Membership Package</th>\n",
       "      <th>Membership Type</th>\n",
       "      <th>Suburb</th>\n",
       "      <th>Category</th>\n",
       "    </tr>\n",
       "  </thead>\n",
       "  <tbody>\n",
       "    <tr>\n",
       "      <th>0</th>\n",
       "      <td>6.0</td>\n",
       "      <td>Female</td>\n",
       "      <td>LEARN-TO-SWIM</td>\n",
       "      <td>LEARN-TO-SWIM</td>\n",
       "      <td>LEARN-TO-SWIM</td>\n",
       "      <td>AARONS PASS</td>\n",
       "      <td>LEARN-TO-SWIM</td>\n",
       "    </tr>\n",
       "    <tr>\n",
       "      <th>1</th>\n",
       "      <td>7.0</td>\n",
       "      <td>Female</td>\n",
       "      <td>LEARN-TO-SWIM</td>\n",
       "      <td>LEARN-TO-SWIM</td>\n",
       "      <td>LEARN-TO-SWIM</td>\n",
       "      <td>ASCOT</td>\n",
       "      <td>LEARN-TO-SWIM</td>\n",
       "    </tr>\n",
       "    <tr>\n",
       "      <th>2</th>\n",
       "      <td>7.0</td>\n",
       "      <td>Male</td>\n",
       "      <td>LEARN-TO-SWIM</td>\n",
       "      <td>LEARN-TO-SWIM</td>\n",
       "      <td>LEARN-TO-SWIM</td>\n",
       "      <td>ASCOT</td>\n",
       "      <td>LEARN-TO-SWIM</td>\n",
       "    </tr>\n",
       "    <tr>\n",
       "      <th>3</th>\n",
       "      <td>6.0</td>\n",
       "      <td>Male</td>\n",
       "      <td>LEARN-TO-SWIM</td>\n",
       "      <td>LEARN-TO-SWIM</td>\n",
       "      <td>LEARN-TO-SWIM</td>\n",
       "      <td>ASCOT</td>\n",
       "      <td>LEARN-TO-SWIM</td>\n",
       "    </tr>\n",
       "    <tr>\n",
       "      <th>4</th>\n",
       "      <td>0.0</td>\n",
       "      <td>Female</td>\n",
       "      <td>LEARN-TO-SWIM</td>\n",
       "      <td>LEARN-TO-SWIM</td>\n",
       "      <td>LEARN-TO-SWIM</td>\n",
       "      <td>AXE CREEK</td>\n",
       "      <td>LEARN-TO-SWIM</td>\n",
       "    </tr>\n",
       "    <tr>\n",
       "      <th>...</th>\n",
       "      <td>...</td>\n",
       "      <td>...</td>\n",
       "      <td>...</td>\n",
       "      <td>...</td>\n",
       "      <td>...</td>\n",
       "      <td>...</td>\n",
       "      <td>...</td>\n",
       "    </tr>\n",
       "    <tr>\n",
       "      <th>4483</th>\n",
       "      <td>36.0</td>\n",
       "      <td>Female</td>\n",
       "      <td>Membership</td>\n",
       "      <td>Reformer Plus</td>\n",
       "      <td>ADULT</td>\n",
       "      <td>STRATHFIELDSAYE</td>\n",
       "      <td>Health Club</td>\n",
       "    </tr>\n",
       "    <tr>\n",
       "      <th>4484</th>\n",
       "      <td>20.0</td>\n",
       "      <td>Female</td>\n",
       "      <td>Membership</td>\n",
       "      <td>Reformer Plus</td>\n",
       "      <td>ADULT</td>\n",
       "      <td>WEDDERBURN</td>\n",
       "      <td>Health Club</td>\n",
       "    </tr>\n",
       "    <tr>\n",
       "      <th>4485</th>\n",
       "      <td>39.0</td>\n",
       "      <td>Female</td>\n",
       "      <td>Membership</td>\n",
       "      <td>Reformer Plus</td>\n",
       "      <td>ADULT</td>\n",
       "      <td>WEST BENDIGO</td>\n",
       "      <td>Health Club</td>\n",
       "    </tr>\n",
       "    <tr>\n",
       "      <th>4486</th>\n",
       "      <td>39.0</td>\n",
       "      <td>Female</td>\n",
       "      <td>Membership</td>\n",
       "      <td>Reformer Plus</td>\n",
       "      <td>ADULT</td>\n",
       "      <td>WHIPSTICK</td>\n",
       "      <td>Health Club</td>\n",
       "    </tr>\n",
       "    <tr>\n",
       "      <th>4487</th>\n",
       "      <td>45.0</td>\n",
       "      <td>Female</td>\n",
       "      <td>Membership</td>\n",
       "      <td>Reformer Plus</td>\n",
       "      <td>ADULT</td>\n",
       "      <td>WOODVALE</td>\n",
       "      <td>Health Club</td>\n",
       "    </tr>\n",
       "  </tbody>\n",
       "</table>\n",
       "<p>4460 rows × 7 columns</p>\n",
       "</div>"
      ],
      "text/plain": [
       "       Age  Gender Class/Membership Membership Package Membership Type  \\\n",
       "0      6.0  Female    LEARN-TO-SWIM      LEARN-TO-SWIM   LEARN-TO-SWIM   \n",
       "1      7.0  Female    LEARN-TO-SWIM      LEARN-TO-SWIM   LEARN-TO-SWIM   \n",
       "2      7.0    Male    LEARN-TO-SWIM      LEARN-TO-SWIM   LEARN-TO-SWIM   \n",
       "3      6.0    Male    LEARN-TO-SWIM      LEARN-TO-SWIM   LEARN-TO-SWIM   \n",
       "4      0.0  Female    LEARN-TO-SWIM      LEARN-TO-SWIM   LEARN-TO-SWIM   \n",
       "...    ...     ...              ...                ...             ...   \n",
       "4483  36.0  Female       Membership      Reformer Plus           ADULT   \n",
       "4484  20.0  Female       Membership      Reformer Plus           ADULT   \n",
       "4485  39.0  Female       Membership      Reformer Plus           ADULT   \n",
       "4486  39.0  Female       Membership      Reformer Plus           ADULT   \n",
       "4487  45.0  Female       Membership      Reformer Plus           ADULT   \n",
       "\n",
       "               Suburb       Category  \n",
       "0         AARONS PASS  LEARN-TO-SWIM  \n",
       "1               ASCOT  LEARN-TO-SWIM  \n",
       "2               ASCOT  LEARN-TO-SWIM  \n",
       "3               ASCOT  LEARN-TO-SWIM  \n",
       "4           AXE CREEK  LEARN-TO-SWIM  \n",
       "...               ...            ...  \n",
       "4483  STRATHFIELDSAYE    Health Club  \n",
       "4484       WEDDERBURN    Health Club  \n",
       "4485     WEST BENDIGO    Health Club  \n",
       "4486        WHIPSTICK    Health Club  \n",
       "4487         WOODVALE    Health Club  \n",
       "\n",
       "[4460 rows x 7 columns]"
      ]
     },
     "execution_count": 521,
     "metadata": {},
     "output_type": "execute_result"
    }
   ],
   "source": [
    "df"
   ]
  },
  {
   "cell_type": "code",
   "execution_count": 522,
   "metadata": {},
   "outputs": [
    {
     "data": {
      "text/plain": [
       "37.318161434977576"
      ]
     },
     "execution_count": 522,
     "metadata": {},
     "output_type": "execute_result"
    }
   ],
   "source": [
    "df['Age'].mean()"
   ]
  },
  {
   "cell_type": "code",
   "execution_count": 523,
   "metadata": {},
   "outputs": [
    {
     "data": {
      "text/plain": [
       "46.883529411764705"
      ]
     },
     "execution_count": 523,
     "metadata": {},
     "output_type": "execute_result"
    }
   ],
   "source": [
    "minus_LTS = df[df[\"Class/Membership\"] != 'LEARN-TO-SWIM']\n",
    "minus_LTS['Age'].mean()"
   ]
  },
  {
   "cell_type": "code",
   "execution_count": 524,
   "metadata": {},
   "outputs": [
    {
     "data": {
      "text/html": [
       "<div>\n",
       "<style scoped>\n",
       "    .dataframe tbody tr th:only-of-type {\n",
       "        vertical-align: middle;\n",
       "    }\n",
       "\n",
       "    .dataframe tbody tr th {\n",
       "        vertical-align: top;\n",
       "    }\n",
       "\n",
       "    .dataframe thead th {\n",
       "        text-align: right;\n",
       "    }\n",
       "</style>\n",
       "<table border=\"1\" class=\"dataframe\">\n",
       "  <thead>\n",
       "    <tr style=\"text-align: right;\">\n",
       "      <th></th>\n",
       "      <th>0</th>\n",
       "      <th>Percentage</th>\n",
       "    </tr>\n",
       "  </thead>\n",
       "  <tbody>\n",
       "    <tr>\n",
       "      <th>(-1, 5]</th>\n",
       "      <td>458</td>\n",
       "      <td>10.269058</td>\n",
       "    </tr>\n",
       "    <tr>\n",
       "      <th>(5, 18]</th>\n",
       "      <td>772</td>\n",
       "      <td>17.309417</td>\n",
       "    </tr>\n",
       "    <tr>\n",
       "      <th>(18, 35]</th>\n",
       "      <td>875</td>\n",
       "      <td>19.618834</td>\n",
       "    </tr>\n",
       "    <tr>\n",
       "      <th>(35, 50]</th>\n",
       "      <td>768</td>\n",
       "      <td>17.219731</td>\n",
       "    </tr>\n",
       "    <tr>\n",
       "      <th>(50, 60]</th>\n",
       "      <td>655</td>\n",
       "      <td>14.686099</td>\n",
       "    </tr>\n",
       "    <tr>\n",
       "      <th>(60, 85]</th>\n",
       "      <td>919</td>\n",
       "      <td>20.605381</td>\n",
       "    </tr>\n",
       "    <tr>\n",
       "      <th>(85, 100]</th>\n",
       "      <td>13</td>\n",
       "      <td>0.291480</td>\n",
       "    </tr>\n",
       "  </tbody>\n",
       "</table>\n",
       "</div>"
      ],
      "text/plain": [
       "             0  Percentage\n",
       "(-1, 5]    458   10.269058\n",
       "(5, 18]    772   17.309417\n",
       "(18, 35]   875   19.618834\n",
       "(35, 50]   768   17.219731\n",
       "(50, 60]   655   14.686099\n",
       "(60, 85]   919   20.605381\n",
       "(85, 100]   13    0.291480"
      ]
     },
     "execution_count": 524,
     "metadata": {},
     "output_type": "execute_result"
    }
   ],
   "source": [
    "df['binned']=pd.cut(x=df['Age'], bins=[-1,5,18,35,50, 60, 85, 100])\n",
    "df1 = df.groupby(['binned']).size()\n",
    "df2 = df.binned.value_counts(normalize=True)*100\n",
    "binned_ages = pd.concat([df1, df2], axis=1, join='inner')\n",
    "binned_ages.rename(columns={\"binned\": \"Percentage\"})"
   ]
  },
  {
   "cell_type": "code",
   "execution_count": 525,
   "metadata": {},
   "outputs": [
    {
     "data": {
      "text/plain": [
       "Female               54.596413\n",
       "Male                 44.080717\n",
       "Other                 0.784753\n",
       "Prefer Not To Say     0.538117\n",
       "Name: Gender, dtype: float64"
      ]
     },
     "execution_count": 525,
     "metadata": {},
     "output_type": "execute_result"
    }
   ],
   "source": [
    "df.Gender.value_counts(normalize=True)*100\n"
   ]
  },
  {
   "cell_type": "code",
   "execution_count": 526,
   "metadata": {},
   "outputs": [
    {
     "data": {
      "text/plain": [
       "binned     Gender           \n",
       "(-1, 5]    Female               241\n",
       "           Male                 216\n",
       "           Other                  0\n",
       "           Prefer Not To Say      1\n",
       "(5, 18]    Female               391\n",
       "           Male                 379\n",
       "           Other                  2\n",
       "           Prefer Not To Say      0\n",
       "(18, 35]   Female               431\n",
       "           Male                 421\n",
       "           Other                 14\n",
       "           Prefer Not To Say      9\n",
       "(35, 50]   Female               430\n",
       "           Male                 327\n",
       "           Other                  8\n",
       "           Prefer Not To Say      3\n",
       "(50, 60]   Female               378\n",
       "           Male                 267\n",
       "           Other                  5\n",
       "           Prefer Not To Say      5\n",
       "(60, 85]   Female               558\n",
       "           Male                 349\n",
       "           Other                  6\n",
       "           Prefer Not To Say      6\n",
       "(85, 100]  Female                 6\n",
       "           Male                   7\n",
       "           Other                  0\n",
       "           Prefer Not To Say      0\n",
       "dtype: int64"
      ]
     },
     "execution_count": 526,
     "metadata": {},
     "output_type": "execute_result"
    }
   ],
   "source": [
    "df1 = df.groupby(['binned', 'Gender']).size()\n",
    "df1"
   ]
  },
  {
   "cell_type": "code",
   "execution_count": 527,
   "metadata": {},
   "outputs": [
    {
     "data": {
      "text/plain": [
       "Class/Membership\n",
       "LEARN-TO-SWIM    1060\n",
       "Membership       3400\n",
       "dtype: int64"
      ]
     },
     "execution_count": 527,
     "metadata": {},
     "output_type": "execute_result"
    }
   ],
   "source": [
    "df.groupby(['Class/Membership']).size()"
   ]
  },
  {
   "cell_type": "code",
   "execution_count": 528,
   "metadata": {},
   "outputs": [
    {
     "data": {
      "text/plain": [
       "Membership Package\n",
       "Aquatic Access      1206\n",
       "Coaching Zone         10\n",
       "Full Access         1986\n",
       "Full Access Teen      77\n",
       "LEARN-TO-SWIM       1060\n",
       "Reformer Plus        121\n",
       "dtype: int64"
      ]
     },
     "execution_count": 528,
     "metadata": {},
     "output_type": "execute_result"
    }
   ],
   "source": [
    "df.groupby(['Membership Package']).size()"
   ]
  },
  {
   "cell_type": "code",
   "execution_count": 529,
   "metadata": {},
   "outputs": [
    {
     "data": {
      "text/plain": [
       "Membership Type\n",
       "ADULT            1688\n",
       "CONCESSION       1635\n",
       "LEARN-TO-SWIM    1060\n",
       "TEEN (13-15)       77\n",
       "dtype: int64"
      ]
     },
     "execution_count": 529,
     "metadata": {},
     "output_type": "execute_result"
    }
   ],
   "source": [
    "df.groupby(['Membership Type']).size()"
   ]
  },
  {
   "cell_type": "markdown",
   "metadata": {},
   "source": [
    "### Learn to Swim"
   ]
  },
  {
   "cell_type": "code",
   "execution_count": 530,
   "metadata": {},
   "outputs": [
    {
     "data": {
      "text/plain": [
       "6.636792452830188"
      ]
     },
     "execution_count": 530,
     "metadata": {},
     "output_type": "execute_result"
    }
   ],
   "source": [
    "Learn2swim = df[df['Category'] == 'LEARN-TO-SWIM']\n",
    "Learn2swim['Age'].mean()"
   ]
  },
  {
   "cell_type": "code",
   "execution_count": 531,
   "metadata": {},
   "outputs": [
    {
     "name": "stderr",
     "output_type": "stream",
     "text": [
      "/var/folders/ck/psrltvd10474n3pnlfszjw500000gn/T/ipykernel_9435/821850057.py:2: SettingWithCopyWarning: \n",
      "A value is trying to be set on a copy of a slice from a DataFrame.\n",
      "Try using .loc[row_indexer,col_indexer] = value instead\n",
      "\n",
      "See the caveats in the documentation: https://pandas.pydata.org/pandas-docs/stable/user_guide/indexing.html#returning-a-view-versus-a-copy\n",
      "  Learn2swim['binned2']=pd.cut(x=df['Age'], bins=[-1,2,5,9,13,19, 100])\n"
     ]
    },
    {
     "data": {
      "text/html": [
       "<div>\n",
       "<style scoped>\n",
       "    .dataframe tbody tr th:only-of-type {\n",
       "        vertical-align: middle;\n",
       "    }\n",
       "\n",
       "    .dataframe tbody tr th {\n",
       "        vertical-align: top;\n",
       "    }\n",
       "\n",
       "    .dataframe thead th {\n",
       "        text-align: right;\n",
       "    }\n",
       "</style>\n",
       "<table border=\"1\" class=\"dataframe\">\n",
       "  <thead>\n",
       "    <tr style=\"text-align: right;\">\n",
       "      <th></th>\n",
       "      <th>0</th>\n",
       "      <th>Percentage</th>\n",
       "    </tr>\n",
       "  </thead>\n",
       "  <tbody>\n",
       "    <tr>\n",
       "      <th>(-1, 2]</th>\n",
       "      <td>168</td>\n",
       "      <td>15.849057</td>\n",
       "    </tr>\n",
       "    <tr>\n",
       "      <th>(2, 5]</th>\n",
       "      <td>288</td>\n",
       "      <td>27.169811</td>\n",
       "    </tr>\n",
       "    <tr>\n",
       "      <th>(5, 9]</th>\n",
       "      <td>426</td>\n",
       "      <td>40.188679</td>\n",
       "    </tr>\n",
       "    <tr>\n",
       "      <th>(9, 13]</th>\n",
       "      <td>159</td>\n",
       "      <td>15.000000</td>\n",
       "    </tr>\n",
       "    <tr>\n",
       "      <th>(13, 19]</th>\n",
       "      <td>4</td>\n",
       "      <td>0.377358</td>\n",
       "    </tr>\n",
       "    <tr>\n",
       "      <th>(19, 100]</th>\n",
       "      <td>15</td>\n",
       "      <td>1.415094</td>\n",
       "    </tr>\n",
       "  </tbody>\n",
       "</table>\n",
       "</div>"
      ],
      "text/plain": [
       "             0  Percentage\n",
       "(-1, 2]    168   15.849057\n",
       "(2, 5]     288   27.169811\n",
       "(5, 9]     426   40.188679\n",
       "(9, 13]    159   15.000000\n",
       "(13, 19]     4    0.377358\n",
       "(19, 100]   15    1.415094"
      ]
     },
     "execution_count": 531,
     "metadata": {},
     "output_type": "execute_result"
    }
   ],
   "source": [
    "Learn2swim.groupby(['Age']).size()\n",
    "Learn2swim['binned2']=pd.cut(x=df['Age'], bins=[-1,2,5,9,13,19, 100])\n",
    "L2S1 = Learn2swim.groupby(['binned2']).size()\n",
    "L2S2 = Learn2swim.binned2.value_counts(normalize=True)*100\n",
    "binned_ages2 = pd.concat([L2S1, L2S2], axis=1, join='inner')\n",
    "binned_ages2.rename(columns={\"binned2\": \"Percentage\"})\n"
   ]
  },
  {
   "cell_type": "markdown",
   "metadata": {},
   "source": [
    "### Aquatics"
   ]
  },
  {
   "cell_type": "code",
   "execution_count": 532,
   "metadata": {},
   "outputs": [
    {
     "data": {
      "text/plain": [
       "51.88723051409619"
      ]
     },
     "execution_count": 532,
     "metadata": {},
     "output_type": "execute_result"
    }
   ],
   "source": [
    "Aquatics = df[df['Category'] == 'Aquatic Access']\n",
    "Aquatics['Age'].mean()"
   ]
  },
  {
   "cell_type": "code",
   "execution_count": 533,
   "metadata": {},
   "outputs": [
    {
     "name": "stderr",
     "output_type": "stream",
     "text": [
      "/var/folders/ck/psrltvd10474n3pnlfszjw500000gn/T/ipykernel_9435/282438631.py:2: SettingWithCopyWarning: \n",
      "A value is trying to be set on a copy of a slice from a DataFrame.\n",
      "Try using .loc[row_indexer,col_indexer] = value instead\n",
      "\n",
      "See the caveats in the documentation: https://pandas.pydata.org/pandas-docs/stable/user_guide/indexing.html#returning-a-view-versus-a-copy\n",
      "  Aquatics['binned2']=pd.cut(x=df['Age'], bins=[-1,5,18,35,50, 60, 85, 100])\n"
     ]
    },
    {
     "data": {
      "text/html": [
       "<div>\n",
       "<style scoped>\n",
       "    .dataframe tbody tr th:only-of-type {\n",
       "        vertical-align: middle;\n",
       "    }\n",
       "\n",
       "    .dataframe tbody tr th {\n",
       "        vertical-align: top;\n",
       "    }\n",
       "\n",
       "    .dataframe thead th {\n",
       "        text-align: right;\n",
       "    }\n",
       "</style>\n",
       "<table border=\"1\" class=\"dataframe\">\n",
       "  <thead>\n",
       "    <tr style=\"text-align: right;\">\n",
       "      <th></th>\n",
       "      <th>0</th>\n",
       "      <th>Percentage</th>\n",
       "    </tr>\n",
       "  </thead>\n",
       "  <tbody>\n",
       "    <tr>\n",
       "      <th>(-1, 5]</th>\n",
       "      <td>1</td>\n",
       "      <td>0.082919</td>\n",
       "    </tr>\n",
       "    <tr>\n",
       "      <th>(5, 18]</th>\n",
       "      <td>59</td>\n",
       "      <td>4.892206</td>\n",
       "    </tr>\n",
       "    <tr>\n",
       "      <th>(18, 35]</th>\n",
       "      <td>233</td>\n",
       "      <td>19.320066</td>\n",
       "    </tr>\n",
       "    <tr>\n",
       "      <th>(35, 50]</th>\n",
       "      <td>185</td>\n",
       "      <td>15.339967</td>\n",
       "    </tr>\n",
       "    <tr>\n",
       "      <th>(50, 60]</th>\n",
       "      <td>243</td>\n",
       "      <td>20.149254</td>\n",
       "    </tr>\n",
       "    <tr>\n",
       "      <th>(60, 85]</th>\n",
       "      <td>473</td>\n",
       "      <td>39.220564</td>\n",
       "    </tr>\n",
       "    <tr>\n",
       "      <th>(85, 100]</th>\n",
       "      <td>12</td>\n",
       "      <td>0.995025</td>\n",
       "    </tr>\n",
       "  </tbody>\n",
       "</table>\n",
       "</div>"
      ],
      "text/plain": [
       "             0  Percentage\n",
       "(-1, 5]      1    0.082919\n",
       "(5, 18]     59    4.892206\n",
       "(18, 35]   233   19.320066\n",
       "(35, 50]   185   15.339967\n",
       "(50, 60]   243   20.149254\n",
       "(60, 85]   473   39.220564\n",
       "(85, 100]   12    0.995025"
      ]
     },
     "execution_count": 533,
     "metadata": {},
     "output_type": "execute_result"
    }
   ],
   "source": [
    "Aquatics.groupby(['Age']).size()\n",
    "Aquatics['binned2']=pd.cut(x=df['Age'], bins=[-1,5,18,35,50, 60, 85, 100])\n",
    "L2S1 = Aquatics.groupby(['binned2']).size()\n",
    "L2S2 = Aquatics.binned2.value_counts(normalize=True)*100\n",
    "binned_ages3 = pd.concat([L2S1, L2S2], axis=1, join='inner')\n",
    "binned_ages3.rename(columns={\"binned2\": \"Percentage\"})"
   ]
  },
  {
   "cell_type": "code",
   "execution_count": 534,
   "metadata": {},
   "outputs": [
    {
     "data": {
      "text/plain": [
       "Gender\n",
       "Female               654\n",
       "Male                 516\n",
       "Other                 25\n",
       "Prefer Not To Say     11\n",
       "dtype: int64"
      ]
     },
     "execution_count": 534,
     "metadata": {},
     "output_type": "execute_result"
    }
   ],
   "source": [
    "Aquatics.groupby(['Gender']).size()"
   ]
  },
  {
   "cell_type": "code",
   "execution_count": 535,
   "metadata": {},
   "outputs": [
    {
     "data": {
      "text/plain": [
       "Female               54.228856\n",
       "Male                 42.786070\n",
       "Other                 2.072968\n",
       "Prefer Not To Say     0.912106\n",
       "Name: Gender, dtype: float64"
      ]
     },
     "execution_count": 535,
     "metadata": {},
     "output_type": "execute_result"
    }
   ],
   "source": [
    "Aquatics.Gender.value_counts(normalize=True)*100"
   ]
  },
  {
   "cell_type": "code",
   "execution_count": 536,
   "metadata": {},
   "outputs": [
    {
     "data": {
      "text/plain": [
       "binned2    Gender           \n",
       "(-1, 5]    Female                 0\n",
       "           Male                   1\n",
       "           Other                  0\n",
       "           Prefer Not To Say      0\n",
       "(5, 18]    Female                36\n",
       "           Male                  21\n",
       "           Other                  2\n",
       "           Prefer Not To Say      0\n",
       "(18, 35]   Female               101\n",
       "           Male                 120\n",
       "           Other                  8\n",
       "           Prefer Not To Say      4\n",
       "(35, 50]   Female               104\n",
       "           Male                  73\n",
       "           Other                  6\n",
       "           Prefer Not To Say      2\n",
       "(50, 60]   Female               132\n",
       "           Male                 105\n",
       "           Other                  4\n",
       "           Prefer Not To Say      2\n",
       "(60, 85]   Female               276\n",
       "           Male                 189\n",
       "           Other                  5\n",
       "           Prefer Not To Say      3\n",
       "(85, 100]  Female                 5\n",
       "           Male                   7\n",
       "           Other                  0\n",
       "           Prefer Not To Say      0\n",
       "dtype: int64"
      ]
     },
     "execution_count": 536,
     "metadata": {},
     "output_type": "execute_result"
    }
   ],
   "source": [
    "Aquatics.groupby(['binned2', 'Gender']).size()"
   ]
  },
  {
   "cell_type": "code",
   "execution_count": 537,
   "metadata": {},
   "outputs": [
    {
     "data": {
      "text/plain": [
       "Membership Type\n",
       "ADULT         462\n",
       "CONCESSION    744\n",
       "dtype: int64"
      ]
     },
     "execution_count": 537,
     "metadata": {},
     "output_type": "execute_result"
    }
   ],
   "source": [
    "Aquatics.groupby(['Membership Type']).size()"
   ]
  },
  {
   "cell_type": "code",
   "execution_count": 538,
   "metadata": {},
   "outputs": [
    {
     "data": {
      "text/plain": [
       "Membership Type  Gender           \n",
       "ADULT            Female               236\n",
       "                 Male                 205\n",
       "                 Other                 13\n",
       "                 Prefer Not To Say      8\n",
       "CONCESSION       Female               418\n",
       "                 Male                 311\n",
       "                 Other                 12\n",
       "                 Prefer Not To Say      3\n",
       "dtype: int64"
      ]
     },
     "execution_count": 538,
     "metadata": {},
     "output_type": "execute_result"
    }
   ],
   "source": [
    "Aquatics.groupby(['Membership Type', 'Gender']).size()"
   ]
  },
  {
   "cell_type": "code",
   "execution_count": 539,
   "metadata": {},
   "outputs": [
    {
     "data": {
      "text/plain": [
       "binned2    Membership Type\n",
       "(-1, 5]    ADULT                1\n",
       "           CONCESSION           0\n",
       "(5, 18]    ADULT                2\n",
       "           CONCESSION          57\n",
       "(18, 35]   ADULT              132\n",
       "           CONCESSION         101\n",
       "(35, 50]   ADULT              112\n",
       "           CONCESSION          73\n",
       "(50, 60]   ADULT              168\n",
       "           CONCESSION          75\n",
       "(60, 85]   ADULT               47\n",
       "           CONCESSION         426\n",
       "(85, 100]  ADULT                0\n",
       "           CONCESSION          12\n",
       "dtype: int64"
      ]
     },
     "execution_count": 539,
     "metadata": {},
     "output_type": "execute_result"
    }
   ],
   "source": [
    "Aquatics.groupby(['binned2', 'Membership Type']).size()"
   ]
  },
  {
   "cell_type": "markdown",
   "metadata": {},
   "source": [
    "### Heath Club"
   ]
  },
  {
   "cell_type": "code",
   "execution_count": 540,
   "metadata": {},
   "outputs": [
    {
     "data": {
      "text/plain": [
       "Membership Package\n",
       "Coaching Zone         10\n",
       "Full Access         1986\n",
       "Full Access Teen      77\n",
       "Reformer Plus        121\n",
       "dtype: int64"
      ]
     },
     "execution_count": 540,
     "metadata": {},
     "output_type": "execute_result"
    }
   ],
   "source": [
    "Heath_Club = df[df['Category'] == 'Health Club']\n",
    "Heath_Club.groupby(['Membership Package']).size()"
   ]
  },
  {
   "cell_type": "code",
   "execution_count": 541,
   "metadata": {},
   "outputs": [
    {
     "data": {
      "text/plain": [
       "Membership Package  binned   \n",
       "Coaching Zone       (-1, 5]        0\n",
       "                    (5, 18]        0\n",
       "                    (18, 35]       0\n",
       "                    (35, 50]       4\n",
       "                    (50, 60]       5\n",
       "                    (60, 85]       1\n",
       "                    (85, 100]      0\n",
       "Full Access         (-1, 5]        1\n",
       "                    (5, 18]       50\n",
       "                    (18, 35]     601\n",
       "                    (35, 50]     526\n",
       "                    (50, 60]     375\n",
       "                    (60, 85]     432\n",
       "                    (85, 100]      1\n",
       "Full Access Teen    (-1, 5]        0\n",
       "                    (5, 18]       77\n",
       "                    (18, 35]       0\n",
       "                    (35, 50]       0\n",
       "                    (50, 60]       0\n",
       "                    (60, 85]       0\n",
       "                    (85, 100]      0\n",
       "Reformer Plus       (-1, 5]        0\n",
       "                    (5, 18]        0\n",
       "                    (18, 35]      35\n",
       "                    (35, 50]      46\n",
       "                    (50, 60]      29\n",
       "                    (60, 85]      11\n",
       "                    (85, 100]      0\n",
       "dtype: int64"
      ]
     },
     "execution_count": 541,
     "metadata": {},
     "output_type": "execute_result"
    }
   ],
   "source": [
    "Heath_Club.groupby(['Membership Package', 'binned']).size()"
   ]
  },
  {
   "cell_type": "code",
   "execution_count": 542,
   "metadata": {},
   "outputs": [
    {
     "data": {
      "text/plain": [
       "Membership Package  Gender           \n",
       "Coaching Zone       Female                  7\n",
       "                    Male                    3\n",
       "Full Access         Female               1073\n",
       "                    Male                  893\n",
       "                    Other                   8\n",
       "                    Prefer Not To Say      12\n",
       "Full Access Teen    Female                 32\n",
       "                    Male                   45\n",
       "Reformer Plus       Female                112\n",
       "                    Male                    8\n",
       "                    Other                   1\n",
       "dtype: int64"
      ]
     },
     "execution_count": 542,
     "metadata": {},
     "output_type": "execute_result"
    }
   ],
   "source": [
    "Heath_Club.groupby(['Membership Package', 'Gender']).size()"
   ]
  },
  {
   "cell_type": "code",
   "execution_count": 543,
   "metadata": {},
   "outputs": [
    {
     "data": {
      "text/plain": [
       "Membership Package  Membership Type\n",
       "Coaching Zone       ADULT                10\n",
       "Full Access         ADULT              1095\n",
       "                    CONCESSION          891\n",
       "Full Access Teen    TEEN (13-15)         77\n",
       "Reformer Plus       ADULT               121\n",
       "dtype: int64"
      ]
     },
     "execution_count": 543,
     "metadata": {},
     "output_type": "execute_result"
    }
   ],
   "source": [
    "Heath_Club.groupby(['Membership Package', 'Membership Type']).size()"
   ]
  },
  {
   "cell_type": "code",
   "execution_count": 544,
   "metadata": {},
   "outputs": [],
   "source": [
    "geo = gpd.read_file(\"./data/SA2_2021_AUST_GDA2020.shp\")\n",
    "geo = geo[['SA2_NAME21', 'SA3_NAME21']]\n",
    "geo.to_csv('SA.csv')\n"
   ]
  },
  {
   "cell_type": "code",
   "execution_count": 545,
   "metadata": {},
   "outputs": [],
   "source": [
    "df = df.replace({'ASCOT': 'White Hills - Ascot'}, regex=True)\n",
    "df = df.replace({'AARONS PASS': 'Mudgee Surrounds - East'}, regex=True)\n",
    "df = df.replace({'AXE CREEK': 'Bendigo Surrounds - South'}, regex=True)\n",
    "df = df.replace({'AXEDALE': 'Heathcote'}, regex=True)\n",
    "df = df.replace({'BAGSHOT': 'White Hills - Ascot'}, regex=True)\n",
    "df = df.replace({'BALLENDELLA': 'Rochester'}, regex=True)\n",
    "df = df.replace({'BALWYN NORTH': 'Balwyn North'}, regex=True)\n",
    "df = df.replace({'BARKERS CREEK': 'Castlemaine Surrounds'}, regex=True)\n",
    "df = df.replace({'BET BET': 'Maryborough Surrounds'}, regex=True)\n",
    "df = df.replace({'BENDIGO': 'Bendigo'}, regex=True)\n",
    "df = df.replace({'BIG HILL': 'Kangaroo Flat - Golden Square'}, regex=True)\n",
    "df = df.replace({'BONEO': 'Rosebud - McCrae'}, regex=True)\n",
    "df = df.replace({'BOOMANOOMANA': 'Cobram'}, regex=True)\n",
    "df = df.replace({'BOOROLITE': 'Mansfield (Vic.)'}, regex=True)\n",
    "df = df.replace({'BOORT': 'Loddon'}, regex=True)\n",
    "df = df.replace({'BRIDGEWATER': 'Loddon'}, regex=True)\n",
    "df = df.replace({'Loddon NORTH': 'Loddon'}, regex=True)\n",
    "df = df.replace({'Loddon ON LODDON': 'Loddon'}, regex=True)\n",
    "df = df.replace({'CALFORNIA GULLY': 'California Gully - Eaglehawk'}, regex=True)\n",
    "df = df.replace({'CALIVIL': 'Loddon'}, regex=True)\n",
    "df = df.replace({'CAIRNLEA': 'Cairnlea'}, regex=True)\n",
    "df = df.replace({'CAMPBELLS CREEK': 'Castlemaine Surrounds'}, regex=True)\n",
    "df = df.replace({'CAMPBELLS FOREST': 'Loddon'}, regex=True)\n",
    "df = df.replace({'CARISBROOK': 'Maryborough Surrounds'}, regex=True)\n",
    "df = df.replace({'CASTLEMAINE': 'Castlemaine'}, regex=True)\n",
    "df = df.replace({'CHARLTON': 'Loddon'}, regex=True)\n",
    "df = df.replace({'CHEWTON': 'Castlemaine Surrounds'}, regex=True)\n",
    "df = df.replace({'Castlemaine Surrounds BUSHLANDS': 'Castlemaine Surrounds'}, regex=True)\n",
    "df = df.replace({'CLOVERDALE WA': 'Kewdale'}, regex=True)\n",
    "df = df.replace({'COHUNA': 'Lockington - Gunbower'}, regex=True)\n",
    "df = df.replace({'COOMOORA': 'Castlemaine Surrounds'}, regex=True)\n",
    "df = df.replace({'COSTERFIELD': 'Heathcote'}, regex=True)\n",
    "df = df.replace({'DINGEE': 'Bendigo Surrounds - North'}, regex=True)\n",
    "df = df.replace({'DUNOLLY': 'Maryborough Surrounds'}, regex=True)\n",
    "df = df.replace({'EAGLEHAWK': 'California Gully - Eaglehawk'}, regex=True)\n",
    "df = df.replace({'EAST BENDIGO': 'East Bendigo - Kennington'}, regex=True)\n",
    "df = df.replace({'EAST KEILOR': 'Keilor East'}, regex=True)\n",
    "df = df.replace({'ECHUCA': 'Echuna'}, regex=True)\n",
    "df = df.replace({'Echuna SOUTH': 'Echuna'}, regex=True)\n",
    "df = df.replace({'ELMORE': 'Bendigo Surrounds - North'}, regex=True)\n",
    "df = df.replace({'ELPHINSTONE': 'Castlemaine Surrounds'}, regex=True)\n",
    "df = df.replace({'EMU CREEK': 'Bendigo Surrounds - South'}, regex=True)\n",
    "df = df.replace({'EPPALOCK': 'Heathcote'}, regex=True)\n",
    "df = df.replace({'EPPING': 'Epping - East'}, regex=True)\n",
    "df = df.replace({'EPSOM': 'White Hills - Ascot'}, regex=True)\n",
    "df = df.replace({'ESSENDON': 'Essendon - East'}, regex=True)\n",
    "df = df.replace({'FARADAY': 'Castlemaine Surrounds'}, regex=True)\n",
    "df = df.replace({'FERNIHURST': 'Loddon'}, regex=True)\n",
    "df = df.replace({'FRANKSTON': 'Frankston'}, regex=True)\n",
    "df = df.replace({'FLORA HILL': 'Flora Hill - Spring Gully'}, regex=True)\n",
    "df = df.replace({'FOSTERVILLE': 'Bendigo Surrounds - North'}, regex=True)\n",
    "df = df.replace({'FRYERSTOWN': 'Castlemaine Surrounds'}, regex=True)\n",
    "df = df.replace({'GOLDEN GULLY': 'Kangaroo Flat - Golden Square'}, regex=True)\n",
    "df = df.replace({'GOLDEN SQUARE': 'Kangaroo Flat - Golden Square'}, regex=True)\n",
    "df = df.replace({'GOORNONG': 'Bendigo Surrounds - North'}, regex=True)\n",
    "df = df.replace({'GREENSBOROUGH': 'Greensborough'}, regex=True)\n",
    "df = df.replace({'GREEN GULLY': 'Castlemaine Surrounds'}, regex=True)\n",
    "df = df.replace({'HARCOURT': 'Castlemaine Surrounds'}, regex=True)\n",
    "df = df.replace({'Castlemaine Surrounds NORTH': 'Castlemaine Surrounds'}, regex=True)\n",
    "df = df.replace({'HAWKER': 'Outback'}, regex=True)\n",
    "df = df.replace({'HEATHCOTE': 'Heathcote'}, regex=True)\n",
    "df = df.replace({'Heathcote JUNCTION': 'Heathcote'}, regex=True)\n",
    "df = df.replace({'HUNTLY': 'White Hills - Ascot'}, regex=True)\n",
    "df = df.replace({'White Hills - Ascot NORTH': 'White Hills - Ascot'}, regex=True)\n",
    "df = df.replace({'INGLEWOOD': 'Loddon'}, regex=True)\n",
    "df = df.replace({'IRONBARK': 'Bendigo'}, regex=True)\n",
    "df = df.replace({'IRYMPLE': 'Mildura Surrounds'}, regex=True)\n",
    "df = df.replace({'JACKASS FLAT': 'California Gully - Eaglehawk'}, regex=True)\n",
    "df = df.replace({'JUNORTOUN': 'Strathfieldsaye'}, regex=True)\n",
    "df = df.replace({'KANGAROO FLAT': 'Kangaroo Flat - Golden Square'}, regex=True)\n",
    "df = df.replace({'KEILOR EAST': 'Keilor East'}, regex=True)\n",
    "df = df.replace({'KENNINGTON': 'East Bendigo - Kennington'}, regex=True)\n",
    "df = df.replace({'KIMBOLTON': 'Heathcote'}, regex=True)\n",
    "df = df.replace({'KNOWSLEY': 'Heathcote'}, regex=True)\n",
    "df = df.replace({'KNOXFIELD': 'Knoxfield - Scoresby'}, regex=True)\n",
    "df = df.replace({'KYNETON': 'Kyneton'}, regex=True)\n",
    "df = df.replace({'LAANECOORIE': 'Maryborough Surrounds'}, regex=True)\n",
    "df = df.replace({'LAKE GARDENS': 'Ballarat'}, regex=True)\n",
    "df = df.replace({'LANSELL PLAZA': 'Kangaroo Flat - Golden Square'}, regex=True)\n",
    "df = df.replace({'LEICHARDT': 'Bendigo Surrounds - North'}, regex=True)\n",
    "df = df.replace({'LOCKWOOD': 'Kangaroo Flat - Golden Square'}, regex=True)\n",
    "df = df.replace({'Kangaroo Flat - Golden Square SOUTH': 'Kangaroo Flat - Golden Square'}, regex=True)\n",
    "df = df.replace({'LONG GULLY': 'California Gully - Eaglehawk'}, regex=True)\n",
    "df = df.replace({'LONGLEA': 'Bendigo Surrounds - North'}, regex=True)\n",
    "df = df.replace({'MAIDEN GULLY': 'Maiden Gully'}, regex=True)\n",
    "df = df.replace({'MALDON': 'Castlemaine Surrounds'}, regex=True)\n",
    "df = df.replace({'MALMSBURY': 'Kyneton'}, regex=True)\n",
    "df = df.replace({'MALVERN': 'Malvern East'}, regex=True)\n",
    "df = df.replace({'MANDURANG': 'Bendigo Surrounds - South'}, regex=True)\n",
    "df = df.replace({'Bendigo Surrounds - South SOUTH': 'Bendigo Surrounds - South'}, regex=True)\n",
    "df = df.replace({'MARONG': 'Bendigo Surrounds - South'}, regex=True)\n",
    "df = df.replace({'MARYBOROUGH': 'Maryborough (Vic.)'}, regex=True)\n",
    "df = df.replace({'MCKENZIE HILL': 'Castlemaine Surrounds'}, regex=True)\n",
    "df = df.replace({'METCALFE': 'Castlemaine Surrounds'}, regex=True)\n",
    "df = df.replace({'MILDURA': 'Mildura Surrounds'}, regex=True)\n",
    "df = df.replace({'MITCHAM': 'Mitcham (Vic.)'}, regex=True)\n",
    "df = df.replace({'MOAMA': 'Echuna'}, regex=True)\n",
    "df = df.replace({'MOLIAGUL': 'Maryborough Surrounds'}, regex=True)\n",
    "df = df.replace({'MOORABBIN': 'Moorabbin - Heatherton'}, regex=True)\n",
    "df = df.replace({'MOULAMEIN': 'Deniliquin Surrounds'}, regex=True)\n",
    "df = df.replace({'MUCKLEFORD': 'Castlemaine Surrounds'}, regex=True)\n",
    "df = df.replace({'MYERS FLAT': 'California Gully - Eaglehawk'}, regex=True)\n",
    "df = df.replace({'MYRTLE CREEK': 'Bendigo Surrounds - South'}, regex=True)\n",
    "df = df.replace({'NEILBOROUGH': 'Bendigo Surrounds - North'}, regex=True)\n",
    "df = df.replace({'NERRINA': 'Ballarat North - Invermay'}, regex=True)\n",
    "df = df.replace({'NEWBRIDGE': 'Loddon'}, regex=True)\n",
    "df = df.replace({'NEWSTEAD': 'Castlemaine Surrounds'}, regex=True)\n",
    "df = df.replace({'NORTH Bendigo': 'Bendigo'}, regex=True)\n",
    "df = df.replace({'PASCOE VALE': 'Pascoe Vale South'}, regex=True)\n",
    "df = df.replace({'PRAIRIE': 'Longreach'}, regex=True)\n",
    "df = df.replace({'PRESTON': 'Preston - East'}, regex=True)\n",
    "df = df.replace({'QUARRY HILL': 'Bendigo'}, regex=True)\n",
    "df = df.replace({'RAVENSWOOD': 'Kangaroo Flat - Golden Square'}, regex=True)\n",
    "df = df.replace({'Kangaroo Flat - Golden Square SOUTH': 'Kangaroo Flat - Golden Square'}, regex=True)\n",
    "df = df.replace({'RAYWOOD': 'Bendigo Surrounds - North'}, regex=True)\n",
    "df = df.replace({'ROCHESTER': 'Rochester'}, regex=True)\n",
    "df = df.replace({'ROMSEY': 'Romsey'}, regex=True)\n",
    "df = df.replace({'ROXBURGH PARK': 'Roxburgh Park - North'}, regex=True)\n",
    "df = df.replace({'RYE': 'Rosebud - McCrae'}, regex=True)\n",
    "df = df.replace({'SAILORS GULLY': 'California Gully - Eaglehawk'}, regex=True)\n",
    "df = df.replace({'SALISBURY WEST': 'Loddon'}, regex=True)\n",
    "df = df.replace({'SANDON': 'Castlemaine Surrounds'}, regex=True)\n",
    "df = df.replace({'SEBASTIAN': 'Bendigo Surrounds - North'}, regex=True)\n",
    "df = df.replace({'SEDGWICK': 'Kangaroo Flat - Golden Square'}, regex=True)\n",
    "df = df.replace({'SERPENTINE': 'Loddon'}, regex=True)\n",
    "df = df.replace({'SHELBOURNE': 'Kangaroo Flat - Golden Square'}, regex=True)\n",
    "df = df.replace({'SHEPPARTON': 'Shepparton - North'}, regex=True)\n",
    "df = df.replace({'SPRING GULLY': 'Flora Hill - Spring Gully'}, regex=True)\n",
    "df = df.replace({'SPRINGVALE': 'Springvale'}, regex=True)\n",
    "df = df.replace({'STRATHDALE': 'East Bendigo - Kennington'}, regex=True)\n",
    "df = df.replace({'STRATHFIELDSAYE': 'Strathfieldsaye'}, regex=True)\n",
    "df = df.replace({'SUNBURY': 'Sunbury'}, regex=True)\n",
    "df = df.replace({'SUTTON GRANGE': 'Castlemaine Surrounds'}, regex=True)\n",
    "df = df.replace({'SWAN HILL': 'Swan Hill'}, regex=True)\n",
    "df = df.replace({'TARADALE': 'Castlemaine Surrounds'}, regex=True)\n",
    "df = df.replace({'TARNAGULLA': 'St Arnaud'}, regex=True)\n",
    "df = df.replace({'TARRENGOWER': 'Castlemaine Surrounds'}, regex=True)\n",
    "df = df.replace({'THORNBURY': 'Thornbury'}, regex=True)\n",
    "df = df.replace({'TOOLLEEN': 'Bendigo Surrounds - North'}, regex=True)\n",
    "df = df.replace({'WALMER': 'Castlemaine Surrounds'}, regex=True)\n",
    "df = df.replace({'WARANGA SHORES': 'Rushworth'}, regex=True)\n",
    "df = df.replace({'WARNER QLD': 'Cashmere'}, regex=True)\n",
    "df = df.replace({'WEDDERBURN': 'Loddon'}, regex=True)\n",
    "df = df.replace({'WELSHMANS REEF': 'Castlemaine Surrounds'}, regex=True)\n",
    "df = df.replace({'WEST Bendigo': 'Bendigo'}, regex=True)\n",
    "df = df.replace({'WHIPSTICK': 'Bendigo Surrounds - North'}, regex=True)\n",
    "df = df.replace({'WHITE HILLS': 'White Hills - Ascot'}, regex=True)\n",
    "df = df.replace({'WOODEND': 'Kyneton'}, regex=True)\n",
    "df = df.replace({'WOODVALE': 'Bendigo Surrounds - North'}, regex=True)\n",
    "df = df.replace({'WOOLLOOMOOLOO': 'Sydney (North) - Millers Point'}, regex=True)\n",
    "df = df.replace({'YAPEEN': 'Castlemaine Surrounds'}, regex=True)\n",
    "df = df.replace({'YARRABERB': 'Loddon'}, regex=True)"
   ]
  },
  {
   "cell_type": "code",
   "execution_count": 547,
   "metadata": {},
   "outputs": [
    {
     "data": {
      "text/plain": [
       "Suburb\n",
       "Ballarat                             1\n",
       "Ballarat North - Invermay            1\n",
       "Balwyn North                         1\n",
       "Bendigo                            568\n",
       "Bendigo Surrounds - North           48\n",
       "Bendigo Surrounds - South          167\n",
       "Cairnlea                             1\n",
       "California Gully - Eaglehawk       299\n",
       "Cashmere                             1\n",
       "Castlemaine                         71\n",
       "Castlemaine Surrounds              156\n",
       "Cobram                               1\n",
       "Deniliquin Surrounds                 1\n",
       "EAST Bendigo                        54\n",
       "East Bendigo - Kennington          248\n",
       "Echuna                               6\n",
       "Epping - East                        1\n",
       "Essendon - East                      2\n",
       "FLOREY                               1\n",
       "Flora Hill - Spring Gully          230\n",
       "Frankston                            1\n",
       "Greensborough                        1\n",
       "Heathcote                           41\n",
       "Kangaroo Flat - Golden Square     1788\n",
       "Keilor East                          2\n",
       "Kewdale                              1\n",
       "Knoxfield - Scoresby                 2\n",
       "Kyneton                              9\n",
       "Lockington - Gunbower                1\n",
       "Loddon                              30\n",
       "Longreach                            2\n",
       "Maiden Gully                       258\n",
       "Malvern East                         1\n",
       "Mansfield (Vic.)                     1\n",
       "Maryborough (Vic.)                   3\n",
       "Maryborough Surrounds                9\n",
       "Mildura Surrounds                    2\n",
       "Mitcham (Vic.)                       1\n",
       "Moorabbin - Heatherton               1\n",
       "Mudgee Surrounds - East              1\n",
       "Outback                              2\n",
       "Pascoe Vale South                    1\n",
       "Preston - East                       2\n",
       "Rochester                            3\n",
       "Romsey                               1\n",
       "Rosebud - McCrae                     3\n",
       "Roxburgh Park - North                1\n",
       "Rushworth                            1\n",
       "Shepparton - North                   1\n",
       "Springvale                           1\n",
       "St Arnaud                            1\n",
       "Strathfieldsaye                    242\n",
       "Sunbury                              1\n",
       "Swan Hill                            4\n",
       "Sydney (North) - Millers Point       1\n",
       "Thornbury                            1\n",
       "White Hills - Ascot                181\n",
       "dtype: int64"
      ]
     },
     "execution_count": 547,
     "metadata": {},
     "output_type": "execute_result"
    }
   ],
   "source": [
    "suburbs = df.groupby(['Suburb']).size()\n",
    "suburbs"
   ]
  },
  {
   "cell_type": "code",
   "execution_count": null,
   "metadata": {},
   "outputs": [],
   "source": [
    "# geo = geo[['SA1_NAME21', 'geometry']]\n",
    "# geo.to_csv('sa1.csv')\n",
    "# geo = geo.rename(columns={'SA3_NAME21': 'location'})\n",
    "# geo = geo.drop_duplicates(subset=['location'])\n",
    "# geoJSON = geo.to_json()\n",
    "\n",
    "# senti = pd.read_json(\"./data/modified_data2.json\")\n",
    "# senti = senti[['location', 'sentiment']]\n",
    "\n",
    "# group = pd.merge(geo, senti, on='location', how='inner')\n",
    "# group = group.groupby(['location']).mean()\n",
    "# group = pd.merge(group, geo, on='location', how='inner')\n",
    "\n",
    "# map = folium.Map(location=[-37.5, 144.5], tiles=\"Stamen Terrain\", zoom_start=8)\n",
    "\n",
    "# c = folium.Choropleth(\n",
    "#     geo_data=geoJSON, # geoJSON \n",
    "#     name='Sentiment of Tweets', # name of plot\n",
    "#     data=group, # data source\n",
    "#     columns=['location','sentiment'], # the columns required\n",
    "#     key_on='properties.location', # this is from the geoJSON's properties\n",
    "#     fill_color='YlOrRd', # color scheme\n",
    "#     nan_fill_color='black',\n",
    "#     legend_name='Sentiment'\n",
    "# )\n",
    "# c.add_to(map)\n",
    "# map.save('frontend/app/templates/SentiLocation.html')"
   ]
  }
 ],
 "metadata": {
  "kernelspec": {
   "display_name": "Python 3",
   "language": "python",
   "name": "python3"
  },
  "language_info": {
   "codemirror_mode": {
    "name": "ipython",
    "version": 3
   },
   "file_extension": ".py",
   "mimetype": "text/x-python",
   "name": "python",
   "nbconvert_exporter": "python",
   "pygments_lexer": "ipython3",
   "version": "3.9.12"
  },
  "orig_nbformat": 4
 },
 "nbformat": 4,
 "nbformat_minor": 2
}
