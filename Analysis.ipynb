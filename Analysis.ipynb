{
 "cells": [
  {
   "attachments": {},
   "cell_type": "markdown",
   "metadata": {},
   "source": [
    "# Belgravia Membership Analysis\n",
    "## Cleaning"
   ]
  },
  {
   "cell_type": "code",
   "execution_count": 317,
   "metadata": {},
   "outputs": [],
   "source": [
    "import pandas as pd\n",
    "import numpy as np"
   ]
  },
  {
   "cell_type": "code",
   "execution_count": 318,
   "metadata": {},
   "outputs": [
    {
     "name": "stdout",
     "output_type": "stream",
     "text": [
      "                Age  Age.1  Gender Class/Membership Membership Package  \\\n",
      "0     MemberLTS0001    6.0  Female    LEARN-TO-SWIM      LEARN-TO-SWIM   \n",
      "1     MemberLTS0004    7.0  Female    LEARN-TO-SWIM      LEARN-TO-SWIM   \n",
      "2     MemberLTS0002    7.0    Male    LEARN-TO-SWIM      LEARN-TO-SWIM   \n",
      "3     MemberLTS0003    6.0    Male    LEARN-TO-SWIM      LEARN-TO-SWIM   \n",
      "4     MemberLTS0006    0.0  Female    LEARN-TO-SWIM      LEARN-TO-SWIM   \n",
      "...             ...    ...     ...              ...                ...   \n",
      "4483  MemberGym2209   36.0  Female       Membership      Reformer Plus   \n",
      "4484  MemberGym2212   20.0  Female       Membership      Reformer Plus   \n",
      "4485  MemberGym2213   39.0  Female       Membership      Reformer Plus   \n",
      "4486  MemberGym2214   39.0  Female       Membership      Reformer Plus   \n",
      "4487  MemberGym2215   45.0  Female       Membership      Reformer Plus   \n",
      "\n",
      "     Membership Type            Suburb  \n",
      "0      LEARN-TO-SWIM       AARONS PASS  \n",
      "1      LEARN-TO-SWIM             ASCOT  \n",
      "2      LEARN-TO-SWIM             ASCOT  \n",
      "3      LEARN-TO-SWIM             ASCOT  \n",
      "4      LEARN-TO-SWIM         AXE CREEK  \n",
      "...              ...               ...  \n",
      "4483           ADULT   STRATHFIELDSAYE  \n",
      "4484           ADULT        WEDDERBURN  \n",
      "4485           ADULT      WEST BENDIGO  \n",
      "4486           ADULT         WHIPSTICK  \n",
      "4487           ADULT          WOODVALE  \n",
      "\n",
      "[4488 rows x 7 columns]\n"
     ]
    }
   ],
   "source": [
    "df = pd.read_excel(r'/Users/jackmelleuish/Desktop/DATA 30 JUN 2023 - MEMBERS.xlsx')\n",
    "print(df)"
   ]
  },
  {
   "cell_type": "code",
   "execution_count": 319,
   "metadata": {},
   "outputs": [
    {
     "name": "stdout",
     "output_type": "stream",
     "text": [
      "       Age  Gender Class/Membership Membership Package Membership Type  \\\n",
      "0      6.0  Female    LEARN-TO-SWIM      LEARN-TO-SWIM   LEARN-TO-SWIM   \n",
      "1      7.0  Female    LEARN-TO-SWIM      LEARN-TO-SWIM   LEARN-TO-SWIM   \n",
      "2      7.0    Male    LEARN-TO-SWIM      LEARN-TO-SWIM   LEARN-TO-SWIM   \n",
      "3      6.0    Male    LEARN-TO-SWIM      LEARN-TO-SWIM   LEARN-TO-SWIM   \n",
      "4      0.0  Female    LEARN-TO-SWIM      LEARN-TO-SWIM   LEARN-TO-SWIM   \n",
      "...    ...     ...              ...                ...             ...   \n",
      "4483  36.0  Female       Membership      Reformer Plus           ADULT   \n",
      "4484  20.0  Female       Membership      Reformer Plus           ADULT   \n",
      "4485  39.0  Female       Membership      Reformer Plus           ADULT   \n",
      "4486  39.0  Female       Membership      Reformer Plus           ADULT   \n",
      "4487  45.0  Female       Membership      Reformer Plus           ADULT   \n",
      "\n",
      "                Suburb  \n",
      "0          AARONS PASS  \n",
      "1                ASCOT  \n",
      "2                ASCOT  \n",
      "3                ASCOT  \n",
      "4            AXE CREEK  \n",
      "...                ...  \n",
      "4483   STRATHFIELDSAYE  \n",
      "4484        WEDDERBURN  \n",
      "4485      WEST BENDIGO  \n",
      "4486         WHIPSTICK  \n",
      "4487          WOODVALE  \n",
      "\n",
      "[4488 rows x 6 columns]\n"
     ]
    }
   ],
   "source": [
    "df = df.drop(columns = ['Age'])\n",
    "df = df.rename(columns={\"Age.1\": \"Age\"})\n",
    "print(df)"
   ]
  },
  {
   "cell_type": "code",
   "execution_count": 320,
   "metadata": {},
   "outputs": [
    {
     "data": {
      "text/plain": [
       "Class/Membership\n",
       "LEARN-TO-SWIM    1060\n",
       "Membership       3428\n",
       "dtype: int64"
      ]
     },
     "execution_count": 320,
     "metadata": {},
     "output_type": "execute_result"
    }
   ],
   "source": [
    "df.groupby(['Class/Membership']).size()"
   ]
  },
  {
   "cell_type": "code",
   "execution_count": 321,
   "metadata": {},
   "outputs": [
    {
     "data": {
      "text/plain": [
       "Membership Package\n",
       "Aquatic Access      1213\n",
       "Coaching Zone         10\n",
       "Full Access         2003\n",
       "Full Access Teen      79\n",
       "LEARN-TO-SWIM       1060\n",
       "Reformer Plus        123\n",
       "dtype: int64"
      ]
     },
     "execution_count": 321,
     "metadata": {},
     "output_type": "execute_result"
    }
   ],
   "source": [
    "df.groupby(['Membership Package']).size()"
   ]
  },
  {
   "cell_type": "code",
   "execution_count": 322,
   "metadata": {},
   "outputs": [
    {
     "data": {
      "text/plain": [
       "Membership Type\n",
       "ADULT            1698\n",
       "CONCESSION       1651\n",
       "LEARN-TO-SWIM    1060\n",
       "TEEN (13-15)       79\n",
       "dtype: int64"
      ]
     },
     "execution_count": 322,
     "metadata": {},
     "output_type": "execute_result"
    }
   ],
   "source": [
    "df.groupby(['Membership Type']).size()"
   ]
  },
  {
   "cell_type": "code",
   "execution_count": 323,
   "metadata": {},
   "outputs": [
    {
     "data": {
      "text/plain": [
       "Gender\n",
       "Female               2451\n",
       "Male                 1977\n",
       "Other                  36\n",
       "Prefer Not To Say      24\n",
       "dtype: int64"
      ]
     },
     "execution_count": 323,
     "metadata": {},
     "output_type": "execute_result"
    }
   ],
   "source": [
    "df.groupby(['Gender']).size()"
   ]
  },
  {
   "cell_type": "code",
   "execution_count": 324,
   "metadata": {},
   "outputs": [
    {
     "data": {
      "text/plain": [
       "Age\n",
       "0.0      22\n",
       "1.0      75\n",
       "2.0      74\n",
       "3.0      79\n",
       "4.0      97\n",
       "         ..\n",
       "89.0      1\n",
       "90.0      2\n",
       "91.0      1\n",
       "122.0     1\n",
       "123.0    24\n",
       "Length: 94, dtype: int64"
      ]
     },
     "execution_count": 324,
     "metadata": {},
     "output_type": "execute_result"
    }
   ],
   "source": [
    "df.groupby(['Age']).size()"
   ]
  },
  {
   "attachments": {},
   "cell_type": "markdown",
   "metadata": {},
   "source": [
    "There are 25 people with ages above 100, we decided to removed these instances are outliers"
   ]
  },
  {
   "cell_type": "code",
   "execution_count": 325,
   "metadata": {},
   "outputs": [
    {
     "data": {
      "text/plain": [
       "Age\n",
       "0.0     22\n",
       "1.0     75\n",
       "2.0     74\n",
       "3.0     79\n",
       "4.0     97\n",
       "        ..\n",
       "87.0     2\n",
       "88.0     3\n",
       "89.0     1\n",
       "90.0     2\n",
       "91.0     1\n",
       "Length: 92, dtype: int64"
      ]
     },
     "execution_count": 325,
     "metadata": {},
     "output_type": "execute_result"
    }
   ],
   "source": [
    "df = df[df['Age'] <= 100] \n",
    "df.groupby(['Age']).size()\n"
   ]
  },
  {
   "attachments": {},
   "cell_type": "markdown",
   "metadata": {},
   "source": [
    "Fixed up all incorrect spellings and data inconsistiencies."
   ]
  },
  {
   "cell_type": "code",
   "execution_count": 326,
   "metadata": {},
   "outputs": [],
   "source": [
    "suburbs = df.groupby(['Suburb']).size()\n",
    "df['Suburb'] = df['Suburb'].str.upper()\n",
    "df['Suburb'] = df['Suburb'].str.strip()\n",
    "df = df.replace({'EAGLEHAWK NECK': 'EAGLEHAWK'}, regex=True)\n",
    "df = df.replace({'GOLDENSQUARE': 'GOLDEN SQUARE'}, regex=True)\n",
    "df = df.replace({'HUNTLEY': 'HUNTLY'}, regex=True)\n",
    "df = df.replace({'MOAMA NSW': 'MOAMA'}, regex=True)\n",
    "df = df.replace({'MOULAMEIN NSW': 'MOULAMEIN'}, regex=True)\n",
    "df = df.replace({'STRATHFEILDSAYE': 'STRATHFIELDSAYE'}, regex=True)\n",
    "suburbs.to_csv('suburbs.csv')"
   ]
  },
  {
   "cell_type": "code",
   "execution_count": 328,
   "metadata": {},
   "outputs": [
    {
     "data": {
      "text/plain": [
       "Age\n",
       "0.0      1\n",
       "12.0     3\n",
       "13.0    12\n",
       "14.0    19\n",
       "15.0    19\n",
       "16.0    18\n",
       "17.0     4\n",
       "18.0     2\n",
       "50.0     1\n",
       "dtype: int64"
      ]
     },
     "execution_count": 328,
     "metadata": {},
     "output_type": "execute_result"
    }
   ],
   "source": [
    "Teen = df[df[\"Membership Type\"] == 'TEEN (13-15)']\n",
    "Teen.groupby(['Age']).size()"
   ]
  },
  {
   "attachments": {},
   "cell_type": "markdown",
   "metadata": {},
   "source": [
    "It appears two people are extreme outliers for the membership and thus we remove their instance."
   ]
  },
  {
   "cell_type": "code",
   "execution_count": 329,
   "metadata": {},
   "outputs": [
    {
     "data": {
      "text/plain": [
       "Age\n",
       "12.0     3\n",
       "13.0    12\n",
       "14.0    19\n",
       "15.0    19\n",
       "16.0    18\n",
       "17.0     4\n",
       "18.0     2\n",
       "dtype: int64"
      ]
     },
     "execution_count": 329,
     "metadata": {},
     "output_type": "execute_result"
    }
   ],
   "source": [
    "df = df.loc[~((df['Membership Type'] == 'TEEN (13-15)') & (df['Age'] >= 19.0))]\n",
    "df = df.loc[~((df['Membership Type'] == 'TEEN (13-15)') & (df['Age'] <= 11.0))]\n",
    "Teen = df[df[\"Membership Type\"] == 'TEEN (13-15)']\n",
    "Teen.groupby(['Age']).size()"
   ]
  },
  {
   "cell_type": "code",
   "execution_count": 330,
   "metadata": {},
   "outputs": [],
   "source": [
    "conditions = [\n",
    "    (df['Membership Package'] == 'LEARN-TO-SWIM'),\n",
    "    (df['Membership Package'] == 'Aquatic Access'),\n",
    "    (df['Membership Package'] == 'Coaching Zone'),\n",
    "    (df['Membership Package'] == 'Full Access'),\n",
    "    (df['Membership Package'] == 'Full Access Teen'),\n",
    "    (df['Membership Package'] == 'Reformer Plus')\n",
    "    ]\n",
    "\n",
    "values = ['LEARN-TO-SWIM', 'Aquatic Access', 'Health Club', 'Health Club', 'Health Club', 'Health Club']\n",
    "\n",
    "df['Category'] = np.select(conditions, values)"
   ]
  },
  {
   "attachments": {},
   "cell_type": "markdown",
   "metadata": {},
   "source": [
    "## Analysis\n",
    "### Whole Centre"
   ]
  },
  {
   "cell_type": "code",
   "execution_count": 331,
   "metadata": {},
   "outputs": [
    {
     "data": {
      "text/html": [
       "<div>\n",
       "<style scoped>\n",
       "    .dataframe tbody tr th:only-of-type {\n",
       "        vertical-align: middle;\n",
       "    }\n",
       "\n",
       "    .dataframe tbody tr th {\n",
       "        vertical-align: top;\n",
       "    }\n",
       "\n",
       "    .dataframe thead th {\n",
       "        text-align: right;\n",
       "    }\n",
       "</style>\n",
       "<table border=\"1\" class=\"dataframe\">\n",
       "  <thead>\n",
       "    <tr style=\"text-align: right;\">\n",
       "      <th></th>\n",
       "      <th>Age</th>\n",
       "      <th>Gender</th>\n",
       "      <th>Class/Membership</th>\n",
       "      <th>Membership Package</th>\n",
       "      <th>Membership Type</th>\n",
       "      <th>Suburb</th>\n",
       "      <th>Category</th>\n",
       "    </tr>\n",
       "  </thead>\n",
       "  <tbody>\n",
       "    <tr>\n",
       "      <th>0</th>\n",
       "      <td>6.0</td>\n",
       "      <td>Female</td>\n",
       "      <td>LEARN-TO-SWIM</td>\n",
       "      <td>LEARN-TO-SWIM</td>\n",
       "      <td>LEARN-TO-SWIM</td>\n",
       "      <td>AARONS PASS</td>\n",
       "      <td>LEARN-TO-SWIM</td>\n",
       "    </tr>\n",
       "    <tr>\n",
       "      <th>1</th>\n",
       "      <td>7.0</td>\n",
       "      <td>Female</td>\n",
       "      <td>LEARN-TO-SWIM</td>\n",
       "      <td>LEARN-TO-SWIM</td>\n",
       "      <td>LEARN-TO-SWIM</td>\n",
       "      <td>ASCOT</td>\n",
       "      <td>LEARN-TO-SWIM</td>\n",
       "    </tr>\n",
       "    <tr>\n",
       "      <th>2</th>\n",
       "      <td>7.0</td>\n",
       "      <td>Male</td>\n",
       "      <td>LEARN-TO-SWIM</td>\n",
       "      <td>LEARN-TO-SWIM</td>\n",
       "      <td>LEARN-TO-SWIM</td>\n",
       "      <td>ASCOT</td>\n",
       "      <td>LEARN-TO-SWIM</td>\n",
       "    </tr>\n",
       "    <tr>\n",
       "      <th>3</th>\n",
       "      <td>6.0</td>\n",
       "      <td>Male</td>\n",
       "      <td>LEARN-TO-SWIM</td>\n",
       "      <td>LEARN-TO-SWIM</td>\n",
       "      <td>LEARN-TO-SWIM</td>\n",
       "      <td>ASCOT</td>\n",
       "      <td>LEARN-TO-SWIM</td>\n",
       "    </tr>\n",
       "    <tr>\n",
       "      <th>4</th>\n",
       "      <td>0.0</td>\n",
       "      <td>Female</td>\n",
       "      <td>LEARN-TO-SWIM</td>\n",
       "      <td>LEARN-TO-SWIM</td>\n",
       "      <td>LEARN-TO-SWIM</td>\n",
       "      <td>AXE CREEK</td>\n",
       "      <td>LEARN-TO-SWIM</td>\n",
       "    </tr>\n",
       "    <tr>\n",
       "      <th>...</th>\n",
       "      <td>...</td>\n",
       "      <td>...</td>\n",
       "      <td>...</td>\n",
       "      <td>...</td>\n",
       "      <td>...</td>\n",
       "      <td>...</td>\n",
       "      <td>...</td>\n",
       "    </tr>\n",
       "    <tr>\n",
       "      <th>4483</th>\n",
       "      <td>36.0</td>\n",
       "      <td>Female</td>\n",
       "      <td>Membership</td>\n",
       "      <td>Reformer Plus</td>\n",
       "      <td>ADULT</td>\n",
       "      <td>STRATHFIELDSAYE</td>\n",
       "      <td>Health Club</td>\n",
       "    </tr>\n",
       "    <tr>\n",
       "      <th>4484</th>\n",
       "      <td>20.0</td>\n",
       "      <td>Female</td>\n",
       "      <td>Membership</td>\n",
       "      <td>Reformer Plus</td>\n",
       "      <td>ADULT</td>\n",
       "      <td>WEDDERBURN</td>\n",
       "      <td>Health Club</td>\n",
       "    </tr>\n",
       "    <tr>\n",
       "      <th>4485</th>\n",
       "      <td>39.0</td>\n",
       "      <td>Female</td>\n",
       "      <td>Membership</td>\n",
       "      <td>Reformer Plus</td>\n",
       "      <td>ADULT</td>\n",
       "      <td>WEST BENDIGO</td>\n",
       "      <td>Health Club</td>\n",
       "    </tr>\n",
       "    <tr>\n",
       "      <th>4486</th>\n",
       "      <td>39.0</td>\n",
       "      <td>Female</td>\n",
       "      <td>Membership</td>\n",
       "      <td>Reformer Plus</td>\n",
       "      <td>ADULT</td>\n",
       "      <td>WHIPSTICK</td>\n",
       "      <td>Health Club</td>\n",
       "    </tr>\n",
       "    <tr>\n",
       "      <th>4487</th>\n",
       "      <td>45.0</td>\n",
       "      <td>Female</td>\n",
       "      <td>Membership</td>\n",
       "      <td>Reformer Plus</td>\n",
       "      <td>ADULT</td>\n",
       "      <td>WOODVALE</td>\n",
       "      <td>Health Club</td>\n",
       "    </tr>\n",
       "  </tbody>\n",
       "</table>\n",
       "<p>4460 rows × 7 columns</p>\n",
       "</div>"
      ],
      "text/plain": [
       "       Age  Gender Class/Membership Membership Package Membership Type  \\\n",
       "0      6.0  Female    LEARN-TO-SWIM      LEARN-TO-SWIM   LEARN-TO-SWIM   \n",
       "1      7.0  Female    LEARN-TO-SWIM      LEARN-TO-SWIM   LEARN-TO-SWIM   \n",
       "2      7.0    Male    LEARN-TO-SWIM      LEARN-TO-SWIM   LEARN-TO-SWIM   \n",
       "3      6.0    Male    LEARN-TO-SWIM      LEARN-TO-SWIM   LEARN-TO-SWIM   \n",
       "4      0.0  Female    LEARN-TO-SWIM      LEARN-TO-SWIM   LEARN-TO-SWIM   \n",
       "...    ...     ...              ...                ...             ...   \n",
       "4483  36.0  Female       Membership      Reformer Plus           ADULT   \n",
       "4484  20.0  Female       Membership      Reformer Plus           ADULT   \n",
       "4485  39.0  Female       Membership      Reformer Plus           ADULT   \n",
       "4486  39.0  Female       Membership      Reformer Plus           ADULT   \n",
       "4487  45.0  Female       Membership      Reformer Plus           ADULT   \n",
       "\n",
       "               Suburb       Category  \n",
       "0         AARONS PASS  LEARN-TO-SWIM  \n",
       "1               ASCOT  LEARN-TO-SWIM  \n",
       "2               ASCOT  LEARN-TO-SWIM  \n",
       "3               ASCOT  LEARN-TO-SWIM  \n",
       "4           AXE CREEK  LEARN-TO-SWIM  \n",
       "...               ...            ...  \n",
       "4483  STRATHFIELDSAYE    Health Club  \n",
       "4484       WEDDERBURN    Health Club  \n",
       "4485     WEST BENDIGO    Health Club  \n",
       "4486        WHIPSTICK    Health Club  \n",
       "4487         WOODVALE    Health Club  \n",
       "\n",
       "[4460 rows x 7 columns]"
      ]
     },
     "execution_count": 331,
     "metadata": {},
     "output_type": "execute_result"
    }
   ],
   "source": [
    "df"
   ]
  },
  {
   "cell_type": "code",
   "execution_count": 332,
   "metadata": {},
   "outputs": [
    {
     "data": {
      "text/plain": [
       "37.318161434977576"
      ]
     },
     "execution_count": 332,
     "metadata": {},
     "output_type": "execute_result"
    }
   ],
   "source": [
    "df['Age'].mean()"
   ]
  },
  {
   "cell_type": "code",
   "execution_count": 333,
   "metadata": {},
   "outputs": [
    {
     "data": {
      "text/plain": [
       "46.883529411764705"
      ]
     },
     "execution_count": 333,
     "metadata": {},
     "output_type": "execute_result"
    }
   ],
   "source": [
    "minus_LTS = df[df[\"Class/Membership\"] != 'LEARN-TO-SWIM']\n",
    "minus_LTS['Age'].mean()"
   ]
  },
  {
   "cell_type": "code",
   "execution_count": 359,
   "metadata": {},
   "outputs": [
    {
     "data": {
      "text/html": [
       "<div>\n",
       "<style scoped>\n",
       "    .dataframe tbody tr th:only-of-type {\n",
       "        vertical-align: middle;\n",
       "    }\n",
       "\n",
       "    .dataframe tbody tr th {\n",
       "        vertical-align: top;\n",
       "    }\n",
       "\n",
       "    .dataframe thead th {\n",
       "        text-align: right;\n",
       "    }\n",
       "</style>\n",
       "<table border=\"1\" class=\"dataframe\">\n",
       "  <thead>\n",
       "    <tr style=\"text-align: right;\">\n",
       "      <th></th>\n",
       "      <th>0</th>\n",
       "      <th>Percentage</th>\n",
       "    </tr>\n",
       "  </thead>\n",
       "  <tbody>\n",
       "    <tr>\n",
       "      <th>(-1, 5]</th>\n",
       "      <td>458</td>\n",
       "      <td>10.269058</td>\n",
       "    </tr>\n",
       "    <tr>\n",
       "      <th>(5, 18]</th>\n",
       "      <td>772</td>\n",
       "      <td>17.309417</td>\n",
       "    </tr>\n",
       "    <tr>\n",
       "      <th>(18, 35]</th>\n",
       "      <td>875</td>\n",
       "      <td>19.618834</td>\n",
       "    </tr>\n",
       "    <tr>\n",
       "      <th>(35, 50]</th>\n",
       "      <td>768</td>\n",
       "      <td>17.219731</td>\n",
       "    </tr>\n",
       "    <tr>\n",
       "      <th>(50, 60]</th>\n",
       "      <td>655</td>\n",
       "      <td>14.686099</td>\n",
       "    </tr>\n",
       "    <tr>\n",
       "      <th>(60, 85]</th>\n",
       "      <td>919</td>\n",
       "      <td>20.605381</td>\n",
       "    </tr>\n",
       "    <tr>\n",
       "      <th>(85, 100]</th>\n",
       "      <td>13</td>\n",
       "      <td>0.291480</td>\n",
       "    </tr>\n",
       "  </tbody>\n",
       "</table>\n",
       "</div>"
      ],
      "text/plain": [
       "             0  Percentage\n",
       "(-1, 5]    458   10.269058\n",
       "(5, 18]    772   17.309417\n",
       "(18, 35]   875   19.618834\n",
       "(35, 50]   768   17.219731\n",
       "(50, 60]   655   14.686099\n",
       "(60, 85]   919   20.605381\n",
       "(85, 100]   13    0.291480"
      ]
     },
     "execution_count": 359,
     "metadata": {},
     "output_type": "execute_result"
    }
   ],
   "source": [
    "df['binned']=pd.cut(x=df['Age'], bins=[-1,5,18,35,50, 60, 85, 100])\n",
    "df1 = df.groupby(['binned']).size()\n",
    "df2 = df.binned.value_counts(normalize=True)*100\n",
    "binned_ages = pd.concat([df1, df2], axis=1, join='inner')\n",
    "binned_ages.rename(columns={\"binned\": \"Percentage\"})"
   ]
  },
  {
   "cell_type": "code",
   "execution_count": 335,
   "metadata": {},
   "outputs": [
    {
     "data": {
      "text/plain": [
       "Female               54.596413\n",
       "Male                 44.080717\n",
       "Other                 0.784753\n",
       "Prefer Not To Say     0.538117\n",
       "Name: Gender, dtype: float64"
      ]
     },
     "execution_count": 335,
     "metadata": {},
     "output_type": "execute_result"
    }
   ],
   "source": [
    "df.Gender.value_counts(normalize=True)*100\n"
   ]
  },
  {
   "cell_type": "code",
   "execution_count": 374,
   "metadata": {},
   "outputs": [
    {
     "data": {
      "text/plain": [
       "binned     Gender           \n",
       "(-1, 5]    Female               241\n",
       "           Male                 216\n",
       "           Other                  0\n",
       "           Prefer Not To Say      1\n",
       "(5, 18]    Female               391\n",
       "           Male                 379\n",
       "           Other                  2\n",
       "           Prefer Not To Say      0\n",
       "(18, 35]   Female               431\n",
       "           Male                 421\n",
       "           Other                 14\n",
       "           Prefer Not To Say      9\n",
       "(35, 50]   Female               430\n",
       "           Male                 327\n",
       "           Other                  8\n",
       "           Prefer Not To Say      3\n",
       "(50, 60]   Female               378\n",
       "           Male                 267\n",
       "           Other                  5\n",
       "           Prefer Not To Say      5\n",
       "(60, 85]   Female               558\n",
       "           Male                 349\n",
       "           Other                  6\n",
       "           Prefer Not To Say      6\n",
       "(85, 100]  Female                 6\n",
       "           Male                   7\n",
       "           Other                  0\n",
       "           Prefer Not To Say      0\n",
       "dtype: int64"
      ]
     },
     "execution_count": 374,
     "metadata": {},
     "output_type": "execute_result"
    }
   ],
   "source": [
    "df1 = df.groupby(['binned', 'Gender']).size()\n",
    "df1"
   ]
  },
  {
   "cell_type": "code",
   "execution_count": 336,
   "metadata": {},
   "outputs": [
    {
     "data": {
      "text/plain": [
       "Class/Membership\n",
       "LEARN-TO-SWIM    1060\n",
       "Membership       3400\n",
       "dtype: int64"
      ]
     },
     "execution_count": 336,
     "metadata": {},
     "output_type": "execute_result"
    }
   ],
   "source": [
    "df.groupby(['Class/Membership']).size()"
   ]
  },
  {
   "cell_type": "code",
   "execution_count": 337,
   "metadata": {},
   "outputs": [
    {
     "data": {
      "text/plain": [
       "Membership Package\n",
       "Aquatic Access      1206\n",
       "Coaching Zone         10\n",
       "Full Access         1986\n",
       "Full Access Teen      77\n",
       "LEARN-TO-SWIM       1060\n",
       "Reformer Plus        121\n",
       "dtype: int64"
      ]
     },
     "execution_count": 337,
     "metadata": {},
     "output_type": "execute_result"
    }
   ],
   "source": [
    "df.groupby(['Membership Package']).size()"
   ]
  },
  {
   "cell_type": "code",
   "execution_count": 338,
   "metadata": {},
   "outputs": [
    {
     "data": {
      "text/plain": [
       "Membership Type\n",
       "ADULT            1688\n",
       "CONCESSION       1635\n",
       "LEARN-TO-SWIM    1060\n",
       "TEEN (13-15)       77\n",
       "dtype: int64"
      ]
     },
     "execution_count": 338,
     "metadata": {},
     "output_type": "execute_result"
    }
   ],
   "source": [
    "df.groupby(['Membership Type']).size()"
   ]
  },
  {
   "cell_type": "markdown",
   "metadata": {},
   "source": [
    "### Learn to Swim"
   ]
  },
  {
   "cell_type": "code",
   "execution_count": 350,
   "metadata": {},
   "outputs": [
    {
     "data": {
      "text/plain": [
       "6.636792452830188"
      ]
     },
     "execution_count": 350,
     "metadata": {},
     "output_type": "execute_result"
    }
   ],
   "source": [
    "Learn2swim = df[df['Category'] == 'LEARN-TO-SWIM']\n",
    "Learn2swim['Age'].mean()"
   ]
  },
  {
   "cell_type": "code",
   "execution_count": 366,
   "metadata": {},
   "outputs": [
    {
     "name": "stderr",
     "output_type": "stream",
     "text": [
      "/var/folders/ck/psrltvd10474n3pnlfszjw500000gn/T/ipykernel_9435/821850057.py:2: SettingWithCopyWarning: \n",
      "A value is trying to be set on a copy of a slice from a DataFrame.\n",
      "Try using .loc[row_indexer,col_indexer] = value instead\n",
      "\n",
      "See the caveats in the documentation: https://pandas.pydata.org/pandas-docs/stable/user_guide/indexing.html#returning-a-view-versus-a-copy\n",
      "  Learn2swim['binned2']=pd.cut(x=df['Age'], bins=[-1,2,5,9,13,19, 100])\n"
     ]
    },
    {
     "data": {
      "text/html": [
       "<div>\n",
       "<style scoped>\n",
       "    .dataframe tbody tr th:only-of-type {\n",
       "        vertical-align: middle;\n",
       "    }\n",
       "\n",
       "    .dataframe tbody tr th {\n",
       "        vertical-align: top;\n",
       "    }\n",
       "\n",
       "    .dataframe thead th {\n",
       "        text-align: right;\n",
       "    }\n",
       "</style>\n",
       "<table border=\"1\" class=\"dataframe\">\n",
       "  <thead>\n",
       "    <tr style=\"text-align: right;\">\n",
       "      <th></th>\n",
       "      <th>0</th>\n",
       "      <th>Percentage</th>\n",
       "    </tr>\n",
       "  </thead>\n",
       "  <tbody>\n",
       "    <tr>\n",
       "      <th>(-1, 2]</th>\n",
       "      <td>168</td>\n",
       "      <td>15.849057</td>\n",
       "    </tr>\n",
       "    <tr>\n",
       "      <th>(2, 5]</th>\n",
       "      <td>288</td>\n",
       "      <td>27.169811</td>\n",
       "    </tr>\n",
       "    <tr>\n",
       "      <th>(5, 9]</th>\n",
       "      <td>426</td>\n",
       "      <td>40.188679</td>\n",
       "    </tr>\n",
       "    <tr>\n",
       "      <th>(9, 13]</th>\n",
       "      <td>159</td>\n",
       "      <td>15.000000</td>\n",
       "    </tr>\n",
       "    <tr>\n",
       "      <th>(13, 19]</th>\n",
       "      <td>4</td>\n",
       "      <td>0.377358</td>\n",
       "    </tr>\n",
       "    <tr>\n",
       "      <th>(19, 100]</th>\n",
       "      <td>15</td>\n",
       "      <td>1.415094</td>\n",
       "    </tr>\n",
       "  </tbody>\n",
       "</table>\n",
       "</div>"
      ],
      "text/plain": [
       "             0  Percentage\n",
       "(-1, 2]    168   15.849057\n",
       "(2, 5]     288   27.169811\n",
       "(5, 9]     426   40.188679\n",
       "(9, 13]    159   15.000000\n",
       "(13, 19]     4    0.377358\n",
       "(19, 100]   15    1.415094"
      ]
     },
     "execution_count": 366,
     "metadata": {},
     "output_type": "execute_result"
    }
   ],
   "source": [
    "Learn2swim.groupby(['Age']).size()\n",
    "Learn2swim['binned2']=pd.cut(x=df['Age'], bins=[-1,2,5,9,13,19, 100])\n",
    "L2S1 = Learn2swim.groupby(['binned2']).size()\n",
    "L2S2 = Learn2swim.binned2.value_counts(normalize=True)*100\n",
    "binned_ages2 = pd.concat([L2S1, L2S2], axis=1, join='inner')\n",
    "binned_ages2.rename(columns={\"binned2\": \"Percentage\"})\n"
   ]
  },
  {
   "cell_type": "markdown",
   "metadata": {},
   "source": [
    "### Aquatics"
   ]
  },
  {
   "cell_type": "code",
   "execution_count": 367,
   "metadata": {},
   "outputs": [
    {
     "data": {
      "text/plain": [
       "51.88723051409619"
      ]
     },
     "execution_count": 367,
     "metadata": {},
     "output_type": "execute_result"
    }
   ],
   "source": [
    "Aquatics = df[df['Category'] == 'Aquatic Access']\n",
    "Aquatics['Age'].mean()"
   ]
  },
  {
   "cell_type": "code",
   "execution_count": 368,
   "metadata": {},
   "outputs": [
    {
     "name": "stderr",
     "output_type": "stream",
     "text": [
      "/var/folders/ck/psrltvd10474n3pnlfszjw500000gn/T/ipykernel_9435/282438631.py:2: SettingWithCopyWarning: \n",
      "A value is trying to be set on a copy of a slice from a DataFrame.\n",
      "Try using .loc[row_indexer,col_indexer] = value instead\n",
      "\n",
      "See the caveats in the documentation: https://pandas.pydata.org/pandas-docs/stable/user_guide/indexing.html#returning-a-view-versus-a-copy\n",
      "  Aquatics['binned2']=pd.cut(x=df['Age'], bins=[-1,5,18,35,50, 60, 85, 100])\n"
     ]
    },
    {
     "data": {
      "text/html": [
       "<div>\n",
       "<style scoped>\n",
       "    .dataframe tbody tr th:only-of-type {\n",
       "        vertical-align: middle;\n",
       "    }\n",
       "\n",
       "    .dataframe tbody tr th {\n",
       "        vertical-align: top;\n",
       "    }\n",
       "\n",
       "    .dataframe thead th {\n",
       "        text-align: right;\n",
       "    }\n",
       "</style>\n",
       "<table border=\"1\" class=\"dataframe\">\n",
       "  <thead>\n",
       "    <tr style=\"text-align: right;\">\n",
       "      <th></th>\n",
       "      <th>0</th>\n",
       "      <th>Percentage</th>\n",
       "    </tr>\n",
       "  </thead>\n",
       "  <tbody>\n",
       "    <tr>\n",
       "      <th>(-1, 5]</th>\n",
       "      <td>1</td>\n",
       "      <td>0.082919</td>\n",
       "    </tr>\n",
       "    <tr>\n",
       "      <th>(5, 18]</th>\n",
       "      <td>59</td>\n",
       "      <td>4.892206</td>\n",
       "    </tr>\n",
       "    <tr>\n",
       "      <th>(18, 35]</th>\n",
       "      <td>233</td>\n",
       "      <td>19.320066</td>\n",
       "    </tr>\n",
       "    <tr>\n",
       "      <th>(35, 50]</th>\n",
       "      <td>185</td>\n",
       "      <td>15.339967</td>\n",
       "    </tr>\n",
       "    <tr>\n",
       "      <th>(50, 60]</th>\n",
       "      <td>243</td>\n",
       "      <td>20.149254</td>\n",
       "    </tr>\n",
       "    <tr>\n",
       "      <th>(60, 85]</th>\n",
       "      <td>473</td>\n",
       "      <td>39.220564</td>\n",
       "    </tr>\n",
       "    <tr>\n",
       "      <th>(85, 100]</th>\n",
       "      <td>12</td>\n",
       "      <td>0.995025</td>\n",
       "    </tr>\n",
       "  </tbody>\n",
       "</table>\n",
       "</div>"
      ],
      "text/plain": [
       "             0  Percentage\n",
       "(-1, 5]      1    0.082919\n",
       "(5, 18]     59    4.892206\n",
       "(18, 35]   233   19.320066\n",
       "(35, 50]   185   15.339967\n",
       "(50, 60]   243   20.149254\n",
       "(60, 85]   473   39.220564\n",
       "(85, 100]   12    0.995025"
      ]
     },
     "execution_count": 368,
     "metadata": {},
     "output_type": "execute_result"
    }
   ],
   "source": [
    "Aquatics.groupby(['Age']).size()\n",
    "Aquatics['binned2']=pd.cut(x=df['Age'], bins=[-1,5,18,35,50, 60, 85, 100])\n",
    "L2S1 = Aquatics.groupby(['binned2']).size()\n",
    "L2S2 = Aquatics.binned2.value_counts(normalize=True)*100\n",
    "binned_ages3 = pd.concat([L2S1, L2S2], axis=1, join='inner')\n",
    "binned_ages3.rename(columns={\"binned2\": \"Percentage\"})"
   ]
  },
  {
   "cell_type": "code",
   "execution_count": 371,
   "metadata": {},
   "outputs": [
    {
     "data": {
      "text/plain": [
       "Gender\n",
       "Female               654\n",
       "Male                 516\n",
       "Other                 25\n",
       "Prefer Not To Say     11\n",
       "dtype: int64"
      ]
     },
     "execution_count": 371,
     "metadata": {},
     "output_type": "execute_result"
    }
   ],
   "source": [
    "Aquatics.groupby(['Gender']).size()"
   ]
  },
  {
   "cell_type": "code",
   "execution_count": 372,
   "metadata": {},
   "outputs": [
    {
     "data": {
      "text/plain": [
       "Female               54.228856\n",
       "Male                 42.786070\n",
       "Other                 2.072968\n",
       "Prefer Not To Say     0.912106\n",
       "Name: Gender, dtype: float64"
      ]
     },
     "execution_count": 372,
     "metadata": {},
     "output_type": "execute_result"
    }
   ],
   "source": [
    "Aquatics.Gender.value_counts(normalize=True)*100"
   ]
  },
  {
   "cell_type": "code",
   "execution_count": 375,
   "metadata": {},
   "outputs": [
    {
     "data": {
      "text/plain": [
       "binned2    Gender           \n",
       "(-1, 5]    Female                 0\n",
       "           Male                   1\n",
       "           Other                  0\n",
       "           Prefer Not To Say      0\n",
       "(5, 18]    Female                36\n",
       "           Male                  21\n",
       "           Other                  2\n",
       "           Prefer Not To Say      0\n",
       "(18, 35]   Female               101\n",
       "           Male                 120\n",
       "           Other                  8\n",
       "           Prefer Not To Say      4\n",
       "(35, 50]   Female               104\n",
       "           Male                  73\n",
       "           Other                  6\n",
       "           Prefer Not To Say      2\n",
       "(50, 60]   Female               132\n",
       "           Male                 105\n",
       "           Other                  4\n",
       "           Prefer Not To Say      2\n",
       "(60, 85]   Female               276\n",
       "           Male                 189\n",
       "           Other                  5\n",
       "           Prefer Not To Say      3\n",
       "(85, 100]  Female                 5\n",
       "           Male                   7\n",
       "           Other                  0\n",
       "           Prefer Not To Say      0\n",
       "dtype: int64"
      ]
     },
     "execution_count": 375,
     "metadata": {},
     "output_type": "execute_result"
    }
   ],
   "source": [
    "Aquatics.groupby(['binned2', 'Gender']).size()"
   ]
  },
  {
   "cell_type": "code",
   "execution_count": 378,
   "metadata": {},
   "outputs": [
    {
     "data": {
      "text/plain": [
       "Membership Type\n",
       "ADULT         462\n",
       "CONCESSION    744\n",
       "dtype: int64"
      ]
     },
     "execution_count": 378,
     "metadata": {},
     "output_type": "execute_result"
    }
   ],
   "source": [
    "Aquatics.groupby(['Membership Type']).size()"
   ]
  },
  {
   "cell_type": "code",
   "execution_count": 381,
   "metadata": {},
   "outputs": [
    {
     "data": {
      "text/plain": [
       "Membership Type  Gender           \n",
       "ADULT            Female               236\n",
       "                 Male                 205\n",
       "                 Other                 13\n",
       "                 Prefer Not To Say      8\n",
       "CONCESSION       Female               418\n",
       "                 Male                 311\n",
       "                 Other                 12\n",
       "                 Prefer Not To Say      3\n",
       "dtype: int64"
      ]
     },
     "execution_count": 381,
     "metadata": {},
     "output_type": "execute_result"
    }
   ],
   "source": [
    "Aquatics.groupby(['Membership Type', 'Gender']).size()"
   ]
  },
  {
   "cell_type": "code",
   "execution_count": 376,
   "metadata": {},
   "outputs": [
    {
     "data": {
      "text/plain": [
       "binned2    Membership Type\n",
       "(-1, 5]    ADULT                1\n",
       "           CONCESSION           0\n",
       "(5, 18]    ADULT                2\n",
       "           CONCESSION          57\n",
       "(18, 35]   ADULT              132\n",
       "           CONCESSION         101\n",
       "(35, 50]   ADULT              112\n",
       "           CONCESSION          73\n",
       "(50, 60]   ADULT              168\n",
       "           CONCESSION          75\n",
       "(60, 85]   ADULT               47\n",
       "           CONCESSION         426\n",
       "(85, 100]  ADULT                0\n",
       "           CONCESSION          12\n",
       "dtype: int64"
      ]
     },
     "execution_count": 376,
     "metadata": {},
     "output_type": "execute_result"
    }
   ],
   "source": [
    "Aquatics.groupby(['binned2', 'Membership Type']).size()"
   ]
  },
  {
   "cell_type": "markdown",
   "metadata": {},
   "source": [
    "### Heath Club"
   ]
  },
  {
   "cell_type": "code",
   "execution_count": 383,
   "metadata": {},
   "outputs": [
    {
     "data": {
      "text/plain": [
       "Membership Package\n",
       "Coaching Zone         10\n",
       "Full Access         1986\n",
       "Full Access Teen      77\n",
       "Reformer Plus        121\n",
       "dtype: int64"
      ]
     },
     "execution_count": 383,
     "metadata": {},
     "output_type": "execute_result"
    }
   ],
   "source": [
    "Heath_Club = df[df['Category'] == 'Health Club']\n",
    "Heath_Club.groupby(['Membership Package']).size()"
   ]
  },
  {
   "cell_type": "code",
   "execution_count": 391,
   "metadata": {},
   "outputs": [
    {
     "data": {
      "text/plain": [
       "Membership Package  binned   \n",
       "Coaching Zone       (-1, 5]        0\n",
       "                    (5, 18]        0\n",
       "                    (18, 35]       0\n",
       "                    (35, 50]       4\n",
       "                    (50, 60]       5\n",
       "                    (60, 85]       1\n",
       "                    (85, 100]      0\n",
       "Full Access         (-1, 5]        1\n",
       "                    (5, 18]       50\n",
       "                    (18, 35]     601\n",
       "                    (35, 50]     526\n",
       "                    (50, 60]     375\n",
       "                    (60, 85]     432\n",
       "                    (85, 100]      1\n",
       "Full Access Teen    (-1, 5]        0\n",
       "                    (5, 18]       77\n",
       "                    (18, 35]       0\n",
       "                    (35, 50]       0\n",
       "                    (50, 60]       0\n",
       "                    (60, 85]       0\n",
       "                    (85, 100]      0\n",
       "Reformer Plus       (-1, 5]        0\n",
       "                    (5, 18]        0\n",
       "                    (18, 35]      35\n",
       "                    (35, 50]      46\n",
       "                    (50, 60]      29\n",
       "                    (60, 85]      11\n",
       "                    (85, 100]      0\n",
       "dtype: int64"
      ]
     },
     "execution_count": 391,
     "metadata": {},
     "output_type": "execute_result"
    }
   ],
   "source": [
    "Heath_Club.groupby(['Membership Package', 'binned']).size()"
   ]
  },
  {
   "cell_type": "code",
   "execution_count": 392,
   "metadata": {},
   "outputs": [
    {
     "data": {
      "text/plain": [
       "Membership Package  Gender           \n",
       "Coaching Zone       Female                  7\n",
       "                    Male                    3\n",
       "Full Access         Female               1073\n",
       "                    Male                  893\n",
       "                    Other                   8\n",
       "                    Prefer Not To Say      12\n",
       "Full Access Teen    Female                 32\n",
       "                    Male                   45\n",
       "Reformer Plus       Female                112\n",
       "                    Male                    8\n",
       "                    Other                   1\n",
       "dtype: int64"
      ]
     },
     "execution_count": 392,
     "metadata": {},
     "output_type": "execute_result"
    }
   ],
   "source": [
    "Heath_Club.groupby(['Membership Package', 'Gender']).size()"
   ]
  },
  {
   "cell_type": "code",
   "execution_count": 393,
   "metadata": {},
   "outputs": [
    {
     "data": {
      "text/plain": [
       "Membership Package  Membership Type\n",
       "Coaching Zone       ADULT                10\n",
       "Full Access         ADULT              1095\n",
       "                    CONCESSION          891\n",
       "Full Access Teen    TEEN (13-15)         77\n",
       "Reformer Plus       ADULT               121\n",
       "dtype: int64"
      ]
     },
     "execution_count": 393,
     "metadata": {},
     "output_type": "execute_result"
    }
   ],
   "source": [
    "Heath_Club.groupby(['Membership Package', 'Membership Type']).size()"
   ]
  },
  {
   "cell_type": "code",
   "execution_count": null,
   "metadata": {},
   "outputs": [],
   "source": []
  }
 ],
 "metadata": {
  "kernelspec": {
   "display_name": "Python 3",
   "language": "python",
   "name": "python3"
  },
  "language_info": {
   "codemirror_mode": {
    "name": "ipython",
    "version": 3
   },
   "file_extension": ".py",
   "mimetype": "text/x-python",
   "name": "python",
   "nbconvert_exporter": "python",
   "pygments_lexer": "ipython3",
   "version": "3.9.12"
  },
  "orig_nbformat": 4
 },
 "nbformat": 4,
 "nbformat_minor": 2
}
